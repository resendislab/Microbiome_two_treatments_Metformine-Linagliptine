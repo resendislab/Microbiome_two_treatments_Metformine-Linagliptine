{
 "cells": [
  {
   "cell_type": "markdown",
   "metadata": {
    "id": "yZ_1blzSeaj4"
   },
   "source": [
    "## Importing the libraries"
   ]
  },
  {
   "cell_type": "code",
   "execution_count": 1,
   "metadata": {
    "id": "ZgZJk4iJeaj9"
   },
   "outputs": [],
   "source": [
    "import numpy as np # linear algebra\n",
    "import pandas as pd # data processing, CSV file I/O (e.g. pd.read_csv)\n",
    "import seaborn as sns  # data visualization library  \n",
    "import matplotlib.pyplot as plt\n",
    "%matplotlib inline\n",
    "\n",
    "#import scipy.stats.stats as st #for skewness and kurtosis "
   ]
  },
  {
   "cell_type": "markdown",
   "metadata": {},
   "source": [
    "Informacion acerca de la base de datos\n",
    "nombre: matriz_nueva.csv\n",
    "- 0 : grupo sin tx \n",
    "- 1 : metformina\n",
    "* En esta base de datos solo contiene la matriz de abundancia de cada muestra en total n= 205 .\n",
    "* además contiene la etiqueta del tratamiento médico codificado en 0 y 1\n",
    "* los datos clinicos y paraclinicos fueron apartados en esta base de datos de forma manual en excel... incluyendo la fecha de toma de muestra 0, 6 y 12 meses\n"
   ]
  },
  {
   "cell_type": "markdown",
   "metadata": {
    "id": "g8sOZ4qFeakB"
   },
   "source": [
    "## Importing the dataset"
   ]
  },
  {
   "cell_type": "code",
   "execution_count": 2,
   "metadata": {
    "id": "ljh15tHueakC"
   },
   "outputs": [],
   "source": [
    "df = pd.read_csv('-0contra6_metformina.csv', index_col=0) # se importa la base de datos en formato pd.dataframe\n",
    "# index_col=0 simply means we'll treat the first column of the dataset as the ID column.\n",
    "\n",
    "X = df.iloc[:, :-1]\n",
    "y = df.iloc[:, -1]\n",
    "\n",
    "# se separa la base de datos en variables dependientes como X y variables independientes como Y\n"
   ]
  },
  {
   "cell_type": "code",
   "execution_count": 3,
   "metadata": {
    "id": "8_htc8lweakD",
    "outputId": "edd35905-2fb2-4722-b158-845991f77ef0"
   },
   "outputs": [
    {
     "data": {
      "text/html": [
       "<div>\n",
       "<style scoped>\n",
       "    .dataframe tbody tr th:only-of-type {\n",
       "        vertical-align: middle;\n",
       "    }\n",
       "\n",
       "    .dataframe tbody tr th {\n",
       "        vertical-align: top;\n",
       "    }\n",
       "\n",
       "    .dataframe thead th {\n",
       "        text-align: right;\n",
       "    }\n",
       "</style>\n",
       "<table border=\"1\" class=\"dataframe\">\n",
       "  <thead>\n",
       "    <tr style=\"text-align: right;\">\n",
       "      <th></th>\n",
       "      <th>Escherichia-Shigella</th>\n",
       "      <th>Collinsella</th>\n",
       "      <th>Agathobacter</th>\n",
       "      <th>Bacteroides</th>\n",
       "      <th>Blautia</th>\n",
       "      <th>Phascolarctobacterium</th>\n",
       "      <th>Prevotella 9</th>\n",
       "      <th>Akkermansia</th>\n",
       "      <th>Faecalibacterium</th>\n",
       "      <th>Methanobrevibacter</th>\n",
       "      <th>...</th>\n",
       "      <th>Deinococcus</th>\n",
       "      <th>Marinifilaceae</th>\n",
       "      <th>Actinobacteria</th>\n",
       "      <th>Selenomonadales</th>\n",
       "      <th>Victivallaceae_uncultured bacterium</th>\n",
       "      <th>Vermiphilaceae_uncultured bacterium</th>\n",
       "      <th>Bacteroidia</th>\n",
       "      <th>Methylobacterium</th>\n",
       "      <th>Propionimicrobium</th>\n",
       "      <th>status</th>\n",
       "    </tr>\n",
       "    <tr>\n",
       "      <th>index</th>\n",
       "      <th></th>\n",
       "      <th></th>\n",
       "      <th></th>\n",
       "      <th></th>\n",
       "      <th></th>\n",
       "      <th></th>\n",
       "      <th></th>\n",
       "      <th></th>\n",
       "      <th></th>\n",
       "      <th></th>\n",
       "      <th></th>\n",
       "      <th></th>\n",
       "      <th></th>\n",
       "      <th></th>\n",
       "      <th></th>\n",
       "      <th></th>\n",
       "      <th></th>\n",
       "      <th></th>\n",
       "      <th></th>\n",
       "      <th></th>\n",
       "      <th></th>\n",
       "    </tr>\n",
       "  </thead>\n",
       "  <tbody>\n",
       "    <tr>\n",
       "      <th>sample-1</th>\n",
       "      <td>384</td>\n",
       "      <td>417</td>\n",
       "      <td>2774</td>\n",
       "      <td>6722</td>\n",
       "      <td>326</td>\n",
       "      <td>149</td>\n",
       "      <td>6878</td>\n",
       "      <td>5386</td>\n",
       "      <td>9436</td>\n",
       "      <td>0</td>\n",
       "      <td>...</td>\n",
       "      <td>0</td>\n",
       "      <td>0</td>\n",
       "      <td>0</td>\n",
       "      <td>0</td>\n",
       "      <td>0</td>\n",
       "      <td>0</td>\n",
       "      <td>0</td>\n",
       "      <td>0</td>\n",
       "      <td>0</td>\n",
       "      <td>0</td>\n",
       "    </tr>\n",
       "    <tr>\n",
       "      <th>sample-10</th>\n",
       "      <td>1617</td>\n",
       "      <td>203</td>\n",
       "      <td>1550</td>\n",
       "      <td>19334</td>\n",
       "      <td>490</td>\n",
       "      <td>0</td>\n",
       "      <td>33607</td>\n",
       "      <td>1382</td>\n",
       "      <td>18318</td>\n",
       "      <td>3</td>\n",
       "      <td>...</td>\n",
       "      <td>0</td>\n",
       "      <td>0</td>\n",
       "      <td>0</td>\n",
       "      <td>0</td>\n",
       "      <td>0</td>\n",
       "      <td>0</td>\n",
       "      <td>0</td>\n",
       "      <td>0</td>\n",
       "      <td>0</td>\n",
       "      <td>0</td>\n",
       "    </tr>\n",
       "    <tr>\n",
       "      <th>sample-100</th>\n",
       "      <td>9123</td>\n",
       "      <td>1500</td>\n",
       "      <td>497</td>\n",
       "      <td>14048</td>\n",
       "      <td>8137</td>\n",
       "      <td>3389</td>\n",
       "      <td>14685</td>\n",
       "      <td>15</td>\n",
       "      <td>2970</td>\n",
       "      <td>0</td>\n",
       "      <td>...</td>\n",
       "      <td>0</td>\n",
       "      <td>0</td>\n",
       "      <td>0</td>\n",
       "      <td>0</td>\n",
       "      <td>0</td>\n",
       "      <td>0</td>\n",
       "      <td>0</td>\n",
       "      <td>0</td>\n",
       "      <td>0</td>\n",
       "      <td>0</td>\n",
       "    </tr>\n",
       "    <tr>\n",
       "      <th>sample-101</th>\n",
       "      <td>12196</td>\n",
       "      <td>3464</td>\n",
       "      <td>6107</td>\n",
       "      <td>109</td>\n",
       "      <td>3400</td>\n",
       "      <td>2711</td>\n",
       "      <td>347</td>\n",
       "      <td>0</td>\n",
       "      <td>1780</td>\n",
       "      <td>12072</td>\n",
       "      <td>...</td>\n",
       "      <td>0</td>\n",
       "      <td>0</td>\n",
       "      <td>0</td>\n",
       "      <td>0</td>\n",
       "      <td>0</td>\n",
       "      <td>0</td>\n",
       "      <td>0</td>\n",
       "      <td>0</td>\n",
       "      <td>0</td>\n",
       "      <td>0</td>\n",
       "    </tr>\n",
       "    <tr>\n",
       "      <th>sample-102</th>\n",
       "      <td>18219</td>\n",
       "      <td>5508</td>\n",
       "      <td>2388</td>\n",
       "      <td>874</td>\n",
       "      <td>9067</td>\n",
       "      <td>882</td>\n",
       "      <td>479</td>\n",
       "      <td>3500</td>\n",
       "      <td>1267</td>\n",
       "      <td>3</td>\n",
       "      <td>...</td>\n",
       "      <td>0</td>\n",
       "      <td>0</td>\n",
       "      <td>0</td>\n",
       "      <td>0</td>\n",
       "      <td>0</td>\n",
       "      <td>0</td>\n",
       "      <td>0</td>\n",
       "      <td>0</td>\n",
       "      <td>0</td>\n",
       "      <td>0</td>\n",
       "    </tr>\n",
       "    <tr>\n",
       "      <th>...</th>\n",
       "      <td>...</td>\n",
       "      <td>...</td>\n",
       "      <td>...</td>\n",
       "      <td>...</td>\n",
       "      <td>...</td>\n",
       "      <td>...</td>\n",
       "      <td>...</td>\n",
       "      <td>...</td>\n",
       "      <td>...</td>\n",
       "      <td>...</td>\n",
       "      <td>...</td>\n",
       "      <td>...</td>\n",
       "      <td>...</td>\n",
       "      <td>...</td>\n",
       "      <td>...</td>\n",
       "      <td>...</td>\n",
       "      <td>...</td>\n",
       "      <td>...</td>\n",
       "      <td>...</td>\n",
       "      <td>...</td>\n",
       "      <td>...</td>\n",
       "    </tr>\n",
       "    <tr>\n",
       "      <th>sample-8</th>\n",
       "      <td>4947</td>\n",
       "      <td>1470</td>\n",
       "      <td>76</td>\n",
       "      <td>11727</td>\n",
       "      <td>1688</td>\n",
       "      <td>519</td>\n",
       "      <td>54</td>\n",
       "      <td>3456</td>\n",
       "      <td>241</td>\n",
       "      <td>4858</td>\n",
       "      <td>...</td>\n",
       "      <td>0</td>\n",
       "      <td>0</td>\n",
       "      <td>0</td>\n",
       "      <td>0</td>\n",
       "      <td>0</td>\n",
       "      <td>0</td>\n",
       "      <td>0</td>\n",
       "      <td>0</td>\n",
       "      <td>0</td>\n",
       "      <td>0</td>\n",
       "    </tr>\n",
       "    <tr>\n",
       "      <th>sample-9</th>\n",
       "      <td>7834</td>\n",
       "      <td>2995</td>\n",
       "      <td>408</td>\n",
       "      <td>31039</td>\n",
       "      <td>1590</td>\n",
       "      <td>1887</td>\n",
       "      <td>0</td>\n",
       "      <td>2113</td>\n",
       "      <td>1476</td>\n",
       "      <td>4908</td>\n",
       "      <td>...</td>\n",
       "      <td>0</td>\n",
       "      <td>0</td>\n",
       "      <td>0</td>\n",
       "      <td>0</td>\n",
       "      <td>0</td>\n",
       "      <td>0</td>\n",
       "      <td>0</td>\n",
       "      <td>0</td>\n",
       "      <td>0</td>\n",
       "      <td>0</td>\n",
       "    </tr>\n",
       "    <tr>\n",
       "      <th>sample-97</th>\n",
       "      <td>37</td>\n",
       "      <td>2883</td>\n",
       "      <td>394</td>\n",
       "      <td>2398</td>\n",
       "      <td>15639</td>\n",
       "      <td>20</td>\n",
       "      <td>27</td>\n",
       "      <td>2083</td>\n",
       "      <td>3058</td>\n",
       "      <td>5</td>\n",
       "      <td>...</td>\n",
       "      <td>0</td>\n",
       "      <td>0</td>\n",
       "      <td>0</td>\n",
       "      <td>0</td>\n",
       "      <td>0</td>\n",
       "      <td>0</td>\n",
       "      <td>0</td>\n",
       "      <td>0</td>\n",
       "      <td>0</td>\n",
       "      <td>0</td>\n",
       "    </tr>\n",
       "    <tr>\n",
       "      <th>sample-98</th>\n",
       "      <td>104</td>\n",
       "      <td>2179</td>\n",
       "      <td>2704</td>\n",
       "      <td>2336</td>\n",
       "      <td>5967</td>\n",
       "      <td>134</td>\n",
       "      <td>0</td>\n",
       "      <td>0</td>\n",
       "      <td>18813</td>\n",
       "      <td>0</td>\n",
       "      <td>...</td>\n",
       "      <td>0</td>\n",
       "      <td>0</td>\n",
       "      <td>0</td>\n",
       "      <td>0</td>\n",
       "      <td>0</td>\n",
       "      <td>0</td>\n",
       "      <td>0</td>\n",
       "      <td>0</td>\n",
       "      <td>0</td>\n",
       "      <td>0</td>\n",
       "    </tr>\n",
       "    <tr>\n",
       "      <th>sample-99</th>\n",
       "      <td>905</td>\n",
       "      <td>4914</td>\n",
       "      <td>1241</td>\n",
       "      <td>1781</td>\n",
       "      <td>2529</td>\n",
       "      <td>125</td>\n",
       "      <td>2340</td>\n",
       "      <td>10</td>\n",
       "      <td>10804</td>\n",
       "      <td>8990</td>\n",
       "      <td>...</td>\n",
       "      <td>0</td>\n",
       "      <td>0</td>\n",
       "      <td>0</td>\n",
       "      <td>0</td>\n",
       "      <td>0</td>\n",
       "      <td>0</td>\n",
       "      <td>0</td>\n",
       "      <td>0</td>\n",
       "      <td>0</td>\n",
       "      <td>0</td>\n",
       "    </tr>\n",
       "  </tbody>\n",
       "</table>\n",
       "<p>95 rows × 450 columns</p>\n",
       "</div>"
      ],
      "text/plain": [
       "            Escherichia-Shigella  Collinsella  Agathobacter  Bacteroides  \\\n",
       "index                                                                      \n",
       "sample-1                     384          417          2774         6722   \n",
       "sample-10                   1617          203          1550        19334   \n",
       "sample-100                  9123         1500           497        14048   \n",
       "sample-101                 12196         3464          6107          109   \n",
       "sample-102                 18219         5508          2388          874   \n",
       "...                          ...          ...           ...          ...   \n",
       "sample-8                    4947         1470            76        11727   \n",
       "sample-9                    7834         2995           408        31039   \n",
       "sample-97                     37         2883           394         2398   \n",
       "sample-98                    104         2179          2704         2336   \n",
       "sample-99                    905         4914          1241         1781   \n",
       "\n",
       "            Blautia  Phascolarctobacterium  Prevotella 9  Akkermansia  \\\n",
       "index                                                                   \n",
       "sample-1        326                    149          6878         5386   \n",
       "sample-10       490                      0         33607         1382   \n",
       "sample-100     8137                   3389         14685           15   \n",
       "sample-101     3400                   2711           347            0   \n",
       "sample-102     9067                    882           479         3500   \n",
       "...             ...                    ...           ...          ...   \n",
       "sample-8       1688                    519            54         3456   \n",
       "sample-9       1590                   1887             0         2113   \n",
       "sample-97     15639                     20            27         2083   \n",
       "sample-98      5967                    134             0            0   \n",
       "sample-99      2529                    125          2340           10   \n",
       "\n",
       "            Faecalibacterium  Methanobrevibacter  ...  Deinococcus  \\\n",
       "index                                             ...                \n",
       "sample-1                9436                   0  ...            0   \n",
       "sample-10              18318                   3  ...            0   \n",
       "sample-100              2970                   0  ...            0   \n",
       "sample-101              1780               12072  ...            0   \n",
       "sample-102              1267                   3  ...            0   \n",
       "...                      ...                 ...  ...          ...   \n",
       "sample-8                 241                4858  ...            0   \n",
       "sample-9                1476                4908  ...            0   \n",
       "sample-97               3058                   5  ...            0   \n",
       "sample-98              18813                   0  ...            0   \n",
       "sample-99              10804                8990  ...            0   \n",
       "\n",
       "            Marinifilaceae  Actinobacteria  Selenomonadales  \\\n",
       "index                                                         \n",
       "sample-1                 0               0                0   \n",
       "sample-10                0               0                0   \n",
       "sample-100               0               0                0   \n",
       "sample-101               0               0                0   \n",
       "sample-102               0               0                0   \n",
       "...                    ...             ...              ...   \n",
       "sample-8                 0               0                0   \n",
       "sample-9                 0               0                0   \n",
       "sample-97                0               0                0   \n",
       "sample-98                0               0                0   \n",
       "sample-99                0               0                0   \n",
       "\n",
       "            Victivallaceae_uncultured bacterium  \\\n",
       "index                                             \n",
       "sample-1                                      0   \n",
       "sample-10                                     0   \n",
       "sample-100                                    0   \n",
       "sample-101                                    0   \n",
       "sample-102                                    0   \n",
       "...                                         ...   \n",
       "sample-8                                      0   \n",
       "sample-9                                      0   \n",
       "sample-97                                     0   \n",
       "sample-98                                     0   \n",
       "sample-99                                     0   \n",
       "\n",
       "            Vermiphilaceae_uncultured bacterium  Bacteroidia  \\\n",
       "index                                                          \n",
       "sample-1                                      0            0   \n",
       "sample-10                                     0            0   \n",
       "sample-100                                    0            0   \n",
       "sample-101                                    0            0   \n",
       "sample-102                                    0            0   \n",
       "...                                         ...          ...   \n",
       "sample-8                                      0            0   \n",
       "sample-9                                      0            0   \n",
       "sample-97                                     0            0   \n",
       "sample-98                                     0            0   \n",
       "sample-99                                     0            0   \n",
       "\n",
       "            Methylobacterium  Propionimicrobium  status  \n",
       "index                                                    \n",
       "sample-1                   0                  0       0  \n",
       "sample-10                  0                  0       0  \n",
       "sample-100                 0                  0       0  \n",
       "sample-101                 0                  0       0  \n",
       "sample-102                 0                  0       0  \n",
       "...                      ...                ...     ...  \n",
       "sample-8                   0                  0       0  \n",
       "sample-9                   0                  0       0  \n",
       "sample-97                  0                  0       0  \n",
       "sample-98                  0                  0       0  \n",
       "sample-99                  0                  0       0  \n",
       "\n",
       "[95 rows x 450 columns]"
      ]
     },
     "execution_count": 3,
     "metadata": {},
     "output_type": "execute_result"
    }
   ],
   "source": [
    "df\n",
    "### Unassigned;__;__;__;__;_ ¿¿_\n",
    "# se visualiza la base de datos por completo\n",
    "#205 rows= samples\n",
    "# 450 columms = 1 etiqueta y 449 variables dependientes o predictoras"
   ]
  },
  {
   "cell_type": "code",
   "execution_count": 4,
   "metadata": {
    "id": "scY_LGCfeakF",
    "outputId": "3f235958-b33a-497e-9548-b3ae84327c6e"
   },
   "outputs": [
    {
     "name": "stdout",
     "output_type": "stream",
     "text": [
      "<class 'pandas.core.frame.DataFrame'>\n",
      "Index: 95 entries, sample-1 to sample-99\n",
      "Columns: 450 entries, Escherichia-Shigella to status\n",
      "dtypes: int64(450)\n",
      "memory usage: 334.7+ KB\n"
     ]
    }
   ],
   "source": [
    "df.info()\n",
    "#205 rows= samples\n",
    "# 450 columms = 1 etiqueta y 449 variables dependientes o predictoras"
   ]
  },
  {
   "cell_type": "code",
   "execution_count": 5,
   "metadata": {
    "id": "dh8IJFPreakG",
    "outputId": "c615bbe5-a3a8-40f7-fe25-2871b6f49752"
   },
   "outputs": [
    {
     "data": {
      "text/html": [
       "<div>\n",
       "<style scoped>\n",
       "    .dataframe tbody tr th:only-of-type {\n",
       "        vertical-align: middle;\n",
       "    }\n",
       "\n",
       "    .dataframe tbody tr th {\n",
       "        vertical-align: top;\n",
       "    }\n",
       "\n",
       "    .dataframe thead th {\n",
       "        text-align: right;\n",
       "    }\n",
       "</style>\n",
       "<table border=\"1\" class=\"dataframe\">\n",
       "  <thead>\n",
       "    <tr style=\"text-align: right;\">\n",
       "      <th></th>\n",
       "      <th>Escherichia-Shigella</th>\n",
       "      <th>Collinsella</th>\n",
       "      <th>Agathobacter</th>\n",
       "      <th>Bacteroides</th>\n",
       "      <th>Blautia</th>\n",
       "      <th>Phascolarctobacterium</th>\n",
       "      <th>Prevotella 9</th>\n",
       "      <th>Akkermansia</th>\n",
       "      <th>Faecalibacterium</th>\n",
       "      <th>Methanobrevibacter</th>\n",
       "      <th>...</th>\n",
       "      <th>Deinococcus</th>\n",
       "      <th>Marinifilaceae</th>\n",
       "      <th>Actinobacteria</th>\n",
       "      <th>Selenomonadales</th>\n",
       "      <th>Victivallaceae_uncultured bacterium</th>\n",
       "      <th>Vermiphilaceae_uncultured bacterium</th>\n",
       "      <th>Bacteroidia</th>\n",
       "      <th>Methylobacterium</th>\n",
       "      <th>Propionimicrobium</th>\n",
       "      <th>status</th>\n",
       "    </tr>\n",
       "  </thead>\n",
       "  <tbody>\n",
       "    <tr>\n",
       "      <th>count</th>\n",
       "      <td>95.000000</td>\n",
       "      <td>95.000000</td>\n",
       "      <td>95.000000</td>\n",
       "      <td>95.000000</td>\n",
       "      <td>95.000000</td>\n",
       "      <td>95.000000</td>\n",
       "      <td>95.000000</td>\n",
       "      <td>95.000000</td>\n",
       "      <td>95.000000</td>\n",
       "      <td>95.000000</td>\n",
       "      <td>...</td>\n",
       "      <td>95.000000</td>\n",
       "      <td>95.000000</td>\n",
       "      <td>95.000000</td>\n",
       "      <td>95.000000</td>\n",
       "      <td>95.0</td>\n",
       "      <td>95.0</td>\n",
       "      <td>95.0</td>\n",
       "      <td>95.0</td>\n",
       "      <td>95.0</td>\n",
       "      <td>95.000000</td>\n",
       "    </tr>\n",
       "    <tr>\n",
       "      <th>mean</th>\n",
       "      <td>5751.884211</td>\n",
       "      <td>4877.684211</td>\n",
       "      <td>3331.431579</td>\n",
       "      <td>9483.378947</td>\n",
       "      <td>5866.210526</td>\n",
       "      <td>3464.315789</td>\n",
       "      <td>3958.905263</td>\n",
       "      <td>2131.410526</td>\n",
       "      <td>5096.463158</td>\n",
       "      <td>1655.021053</td>\n",
       "      <td>...</td>\n",
       "      <td>0.021053</td>\n",
       "      <td>0.021053</td>\n",
       "      <td>0.021053</td>\n",
       "      <td>0.021053</td>\n",
       "      <td>0.0</td>\n",
       "      <td>0.0</td>\n",
       "      <td>0.0</td>\n",
       "      <td>0.0</td>\n",
       "      <td>0.0</td>\n",
       "      <td>0.431579</td>\n",
       "    </tr>\n",
       "    <tr>\n",
       "      <th>std</th>\n",
       "      <td>10294.133518</td>\n",
       "      <td>7174.394455</td>\n",
       "      <td>3457.256786</td>\n",
       "      <td>11449.630507</td>\n",
       "      <td>7038.872319</td>\n",
       "      <td>5330.232922</td>\n",
       "      <td>9562.488827</td>\n",
       "      <td>4478.435875</td>\n",
       "      <td>4649.118729</td>\n",
       "      <td>4030.229934</td>\n",
       "      <td>...</td>\n",
       "      <td>0.205196</td>\n",
       "      <td>0.205196</td>\n",
       "      <td>0.205196</td>\n",
       "      <td>0.205196</td>\n",
       "      <td>0.0</td>\n",
       "      <td>0.0</td>\n",
       "      <td>0.0</td>\n",
       "      <td>0.0</td>\n",
       "      <td>0.0</td>\n",
       "      <td>0.497924</td>\n",
       "    </tr>\n",
       "    <tr>\n",
       "      <th>min</th>\n",
       "      <td>0.000000</td>\n",
       "      <td>0.000000</td>\n",
       "      <td>0.000000</td>\n",
       "      <td>0.000000</td>\n",
       "      <td>0.000000</td>\n",
       "      <td>0.000000</td>\n",
       "      <td>0.000000</td>\n",
       "      <td>0.000000</td>\n",
       "      <td>15.000000</td>\n",
       "      <td>0.000000</td>\n",
       "      <td>...</td>\n",
       "      <td>0.000000</td>\n",
       "      <td>0.000000</td>\n",
       "      <td>0.000000</td>\n",
       "      <td>0.000000</td>\n",
       "      <td>0.0</td>\n",
       "      <td>0.0</td>\n",
       "      <td>0.0</td>\n",
       "      <td>0.0</td>\n",
       "      <td>0.0</td>\n",
       "      <td>0.000000</td>\n",
       "    </tr>\n",
       "    <tr>\n",
       "      <th>25%</th>\n",
       "      <td>347.500000</td>\n",
       "      <td>889.000000</td>\n",
       "      <td>618.000000</td>\n",
       "      <td>959.000000</td>\n",
       "      <td>1802.500000</td>\n",
       "      <td>64.500000</td>\n",
       "      <td>0.000000</td>\n",
       "      <td>5.500000</td>\n",
       "      <td>1796.000000</td>\n",
       "      <td>0.000000</td>\n",
       "      <td>...</td>\n",
       "      <td>0.000000</td>\n",
       "      <td>0.000000</td>\n",
       "      <td>0.000000</td>\n",
       "      <td>0.000000</td>\n",
       "      <td>0.0</td>\n",
       "      <td>0.0</td>\n",
       "      <td>0.0</td>\n",
       "      <td>0.0</td>\n",
       "      <td>0.0</td>\n",
       "      <td>0.000000</td>\n",
       "    </tr>\n",
       "    <tr>\n",
       "      <th>50%</th>\n",
       "      <td>1330.000000</td>\n",
       "      <td>2883.000000</td>\n",
       "      <td>2178.000000</td>\n",
       "      <td>5095.000000</td>\n",
       "      <td>4033.000000</td>\n",
       "      <td>1176.000000</td>\n",
       "      <td>54.000000</td>\n",
       "      <td>131.000000</td>\n",
       "      <td>3741.000000</td>\n",
       "      <td>4.000000</td>\n",
       "      <td>...</td>\n",
       "      <td>0.000000</td>\n",
       "      <td>0.000000</td>\n",
       "      <td>0.000000</td>\n",
       "      <td>0.000000</td>\n",
       "      <td>0.0</td>\n",
       "      <td>0.0</td>\n",
       "      <td>0.0</td>\n",
       "      <td>0.0</td>\n",
       "      <td>0.0</td>\n",
       "      <td>0.000000</td>\n",
       "    </tr>\n",
       "    <tr>\n",
       "      <th>75%</th>\n",
       "      <td>5502.000000</td>\n",
       "      <td>5437.500000</td>\n",
       "      <td>4658.500000</td>\n",
       "      <td>14118.500000</td>\n",
       "      <td>7811.500000</td>\n",
       "      <td>4432.000000</td>\n",
       "      <td>2360.500000</td>\n",
       "      <td>2182.500000</td>\n",
       "      <td>6635.500000</td>\n",
       "      <td>423.500000</td>\n",
       "      <td>...</td>\n",
       "      <td>0.000000</td>\n",
       "      <td>0.000000</td>\n",
       "      <td>0.000000</td>\n",
       "      <td>0.000000</td>\n",
       "      <td>0.0</td>\n",
       "      <td>0.0</td>\n",
       "      <td>0.0</td>\n",
       "      <td>0.0</td>\n",
       "      <td>0.0</td>\n",
       "      <td>1.000000</td>\n",
       "    </tr>\n",
       "    <tr>\n",
       "      <th>max</th>\n",
       "      <td>56385.000000</td>\n",
       "      <td>49900.000000</td>\n",
       "      <td>16390.000000</td>\n",
       "      <td>64637.000000</td>\n",
       "      <td>49065.000000</td>\n",
       "      <td>22854.000000</td>\n",
       "      <td>59064.000000</td>\n",
       "      <td>24301.000000</td>\n",
       "      <td>26611.000000</td>\n",
       "      <td>19066.000000</td>\n",
       "      <td>...</td>\n",
       "      <td>2.000000</td>\n",
       "      <td>2.000000</td>\n",
       "      <td>2.000000</td>\n",
       "      <td>2.000000</td>\n",
       "      <td>0.0</td>\n",
       "      <td>0.0</td>\n",
       "      <td>0.0</td>\n",
       "      <td>0.0</td>\n",
       "      <td>0.0</td>\n",
       "      <td>1.000000</td>\n",
       "    </tr>\n",
       "  </tbody>\n",
       "</table>\n",
       "<p>8 rows × 450 columns</p>\n",
       "</div>"
      ],
      "text/plain": [
       "       Escherichia-Shigella   Collinsella  Agathobacter   Bacteroides  \\\n",
       "count             95.000000     95.000000     95.000000     95.000000   \n",
       "mean            5751.884211   4877.684211   3331.431579   9483.378947   \n",
       "std            10294.133518   7174.394455   3457.256786  11449.630507   \n",
       "min                0.000000      0.000000      0.000000      0.000000   \n",
       "25%              347.500000    889.000000    618.000000    959.000000   \n",
       "50%             1330.000000   2883.000000   2178.000000   5095.000000   \n",
       "75%             5502.000000   5437.500000   4658.500000  14118.500000   \n",
       "max            56385.000000  49900.000000  16390.000000  64637.000000   \n",
       "\n",
       "            Blautia  Phascolarctobacterium  Prevotella 9   Akkermansia  \\\n",
       "count     95.000000              95.000000     95.000000     95.000000   \n",
       "mean    5866.210526            3464.315789   3958.905263   2131.410526   \n",
       "std     7038.872319            5330.232922   9562.488827   4478.435875   \n",
       "min        0.000000               0.000000      0.000000      0.000000   \n",
       "25%     1802.500000              64.500000      0.000000      5.500000   \n",
       "50%     4033.000000            1176.000000     54.000000    131.000000   \n",
       "75%     7811.500000            4432.000000   2360.500000   2182.500000   \n",
       "max    49065.000000           22854.000000  59064.000000  24301.000000   \n",
       "\n",
       "       Faecalibacterium  Methanobrevibacter  ...  Deinococcus  Marinifilaceae  \\\n",
       "count         95.000000           95.000000  ...    95.000000       95.000000   \n",
       "mean        5096.463158         1655.021053  ...     0.021053        0.021053   \n",
       "std         4649.118729         4030.229934  ...     0.205196        0.205196   \n",
       "min           15.000000            0.000000  ...     0.000000        0.000000   \n",
       "25%         1796.000000            0.000000  ...     0.000000        0.000000   \n",
       "50%         3741.000000            4.000000  ...     0.000000        0.000000   \n",
       "75%         6635.500000          423.500000  ...     0.000000        0.000000   \n",
       "max        26611.000000        19066.000000  ...     2.000000        2.000000   \n",
       "\n",
       "       Actinobacteria  Selenomonadales  Victivallaceae_uncultured bacterium  \\\n",
       "count       95.000000        95.000000                                 95.0   \n",
       "mean         0.021053         0.021053                                  0.0   \n",
       "std          0.205196         0.205196                                  0.0   \n",
       "min          0.000000         0.000000                                  0.0   \n",
       "25%          0.000000         0.000000                                  0.0   \n",
       "50%          0.000000         0.000000                                  0.0   \n",
       "75%          0.000000         0.000000                                  0.0   \n",
       "max          2.000000         2.000000                                  0.0   \n",
       "\n",
       "       Vermiphilaceae_uncultured bacterium  Bacteroidia  Methylobacterium  \\\n",
       "count                                 95.0         95.0              95.0   \n",
       "mean                                   0.0          0.0               0.0   \n",
       "std                                    0.0          0.0               0.0   \n",
       "min                                    0.0          0.0               0.0   \n",
       "25%                                    0.0          0.0               0.0   \n",
       "50%                                    0.0          0.0               0.0   \n",
       "75%                                    0.0          0.0               0.0   \n",
       "max                                    0.0          0.0               0.0   \n",
       "\n",
       "       Propionimicrobium     status  \n",
       "count               95.0  95.000000  \n",
       "mean                 0.0   0.431579  \n",
       "std                  0.0   0.497924  \n",
       "min                  0.0   0.000000  \n",
       "25%                  0.0   0.000000  \n",
       "50%                  0.0   0.000000  \n",
       "75%                  0.0   1.000000  \n",
       "max                  0.0   1.000000  \n",
       "\n",
       "[8 rows x 450 columns]"
      ]
     },
     "execution_count": 5,
     "metadata": {},
     "output_type": "execute_result"
    }
   ],
   "source": [
    "df.describe()\n",
    "# descripcion estadistica de media, std, min, RIQ, max .... respecto a su abundancia"
   ]
  },
  {
   "cell_type": "code",
   "execution_count": 6,
   "metadata": {},
   "outputs": [
    {
     "data": {
      "text/plain": [
       "index\n",
       "sample-1      0\n",
       "sample-10     0\n",
       "sample-100    0\n",
       "sample-101    0\n",
       "sample-102    0\n",
       "             ..\n",
       "sample-8      0\n",
       "sample-9      0\n",
       "sample-97     0\n",
       "sample-98     0\n",
       "sample-99     0\n",
       "Name: status, Length: 95, dtype: int64"
      ]
     },
     "execution_count": 6,
     "metadata": {},
     "output_type": "execute_result"
    }
   ],
   "source": [
    "y"
   ]
  },
  {
   "cell_type": "markdown",
   "metadata": {
    "id": "HC9Oc0T2eakI"
   },
   "source": [
    " # Data visualization - Bar Plot and others ..\n",
    "\n",
    " Bar plots help you visualize the distributions of categorical variables.\n",
    "\n"
   ]
  },
  {
   "cell_type": "code",
   "execution_count": 7,
   "metadata": {
    "id": "Uguoml8LeakJ",
    "outputId": "f6d55373-95c3-4a46-a83b-680fd0c9900b"
   },
   "outputs": [
    {
     "name": "stdout",
     "output_type": "stream",
     "text": [
      "Number of patients with Metofrmina: 54\n",
      "Number of patients with Linagliptina+Metformina treatment: 41\n"
     ]
    },
    {
     "data": {
      "image/png": "[encoded data removed]",
      "text/plain": [
       "<Figure size 432x288 with 1 Axes>"
      ]
     },
     "metadata": {
      "needs_background": "light"
     },
     "output_type": "display_data"
    }
   ],
   "source": [
    "sns.countplot(x='status', data=df)\n",
    "\n",
    "# Rotate x-labels\n",
    "#plt.xticks(rotation=-45)\n",
    "\n",
    "y_count = df['status'].value_counts()\n",
    "print('Number of patients with Metofrmina:', y_count[0])\n",
    "print('Number of patients with Linagliptina+Metformina treatment:', y_count[1])"
   ]
  },
  {
   "cell_type": "code",
   "execution_count": 8,
   "metadata": {
    "id": "NVujqiXXeakK",
    "outputId": "92688082-5cc9-43a3-abf7-7b6ac4dd6313"
   },
   "outputs": [
    {
     "data": {
      "text/plain": [
       "<AxesSubplot:ylabel='index'>"
      ]
     },
     "execution_count": 8,
     "metadata": {},
     "output_type": "execute_result"
    },
    {
     "data": {
      "image/png": "[encoded data removed]",
      "text/plain": [
       "<Figure size 432x288 with 1 Axes>"
      ]
     },
     "metadata": {
      "needs_background": "light"
     },
     "output_type": "display_data"
    }
   ],
   "source": [
    "# Let's see if we have any missing data, luckily we don't!\n",
    "sns.heatmap(df.isnull(), yticklabels = False, cbar = False, cmap=\"Blues\")\n",
    "# 0 no es igual a faltante"
   ]
  },
  {
   "cell_type": "code",
   "execution_count": 9,
   "metadata": {
    "id": "OBr4yF1peakL"
   },
   "outputs": [],
   "source": [
    "#correlations = df.corr()\n",
    "#f, ax = plt.subplots(figsize = (20, 20))\n",
    "#sns.heatmap(correlations, annot = True)"
   ]
  },
  {
   "cell_type": "markdown",
   "metadata": {
    "id": "gn9ToRSGeakM"
   },
   "source": [
    "## Splitting the dataset into the Training set and Test set"
   ]
  },
  {
   "cell_type": "code",
   "execution_count": 10,
   "metadata": {
    "id": "pGArL0AveakM"
   },
   "outputs": [],
   "source": [
    "from sklearn.model_selection import train_test_split\n",
    "X_train, X_test, y_train, y_test = train_test_split(X, y, test_size = 0.25, random_state = 0)\n",
    "# se divide la base de datos en un set de entrenamiento... en donde entrenaras a tu modelo a predecir\n",
    "# y un set de prueba.. son datos que previamente no habian sido vistos por tu modelo, para valorar su performance"
   ]
  },
  {
   "cell_type": "code",
   "execution_count": 11,
   "metadata": {},
   "outputs": [
    {
     "data": {
      "text/plain": [
       "(71, 449)"
      ]
     },
     "execution_count": 11,
     "metadata": {},
     "output_type": "execute_result"
    }
   ],
   "source": [
    "X_train.shape"
   ]
  },
  {
   "cell_type": "code",
   "execution_count": 12,
   "metadata": {},
   "outputs": [],
   "source": [
    "#from imblearn.over_sampling import SMOTE\n",
    "#smote = SMOTE(random_state = 101)\n",
    "#X_train, y_train = smote.fit_resample(X_train, y_train)\n",
    "\n",
    "from imblearn.combine import SMOTETomek\n",
    "from imblearn.under_sampling import TomekLinks\n",
    "sm = SMOTETomek(random_state=12)\n",
    "X_train, y_train = sm.fit_resample(X_train, y_train)"
   ]
  },
  {
   "cell_type": "code",
   "execution_count": 13,
   "metadata": {
    "id": "sfU8hRcweakN",
    "outputId": "d9abea99-caaf-47c4-ff6f-853e23f3f22b"
   },
   "outputs": [
    {
     "data": {
      "text/plain": [
       "(72, 449)"
      ]
     },
     "execution_count": 13,
     "metadata": {},
     "output_type": "execute_result"
    }
   ],
   "source": [
    "X_train.shape"
   ]
  },
  {
   "cell_type": "code",
   "execution_count": 14,
   "metadata": {},
   "outputs": [
    {
     "data": {
      "text/plain": [
       "(24, 449)"
      ]
     },
     "execution_count": 14,
     "metadata": {},
     "output_type": "execute_result"
    }
   ],
   "source": [
    "X_test.shape"
   ]
  },
  {
   "cell_type": "code",
   "execution_count": 15,
   "metadata": {
    "id": "1LLUrXkjeakO",
    "outputId": "05e08f79-a583-4fd4-fca6-5aebc86899c7"
   },
   "outputs": [
    {
     "data": {
      "text/html": [
       "<div>\n",
       "<style scoped>\n",
       "    .dataframe tbody tr th:only-of-type {\n",
       "        vertical-align: middle;\n",
       "    }\n",
       "\n",
       "    .dataframe tbody tr th {\n",
       "        vertical-align: top;\n",
       "    }\n",
       "\n",
       "    .dataframe thead th {\n",
       "        text-align: right;\n",
       "    }\n",
       "</style>\n",
       "<table border=\"1\" class=\"dataframe\">\n",
       "  <thead>\n",
       "    <tr style=\"text-align: right;\">\n",
       "      <th></th>\n",
       "      <th>Escherichia-Shigella</th>\n",
       "      <th>Collinsella</th>\n",
       "      <th>Agathobacter</th>\n",
       "      <th>Bacteroides</th>\n",
       "      <th>Blautia</th>\n",
       "      <th>Phascolarctobacterium</th>\n",
       "      <th>Prevotella 9</th>\n",
       "      <th>Akkermansia</th>\n",
       "      <th>Faecalibacterium</th>\n",
       "      <th>Methanobrevibacter</th>\n",
       "      <th>...</th>\n",
       "      <th>Pseudoramibacter</th>\n",
       "      <th>Deinococcus</th>\n",
       "      <th>Marinifilaceae</th>\n",
       "      <th>Actinobacteria</th>\n",
       "      <th>Selenomonadales</th>\n",
       "      <th>Victivallaceae_uncultured bacterium</th>\n",
       "      <th>Vermiphilaceae_uncultured bacterium</th>\n",
       "      <th>Bacteroidia</th>\n",
       "      <th>Methylobacterium</th>\n",
       "      <th>Propionimicrobium</th>\n",
       "    </tr>\n",
       "  </thead>\n",
       "  <tbody>\n",
       "    <tr>\n",
       "      <th>0</th>\n",
       "      <td>4934</td>\n",
       "      <td>4086</td>\n",
       "      <td>2273</td>\n",
       "      <td>8303</td>\n",
       "      <td>3706</td>\n",
       "      <td>6831</td>\n",
       "      <td>0</td>\n",
       "      <td>6260</td>\n",
       "      <td>6661</td>\n",
       "      <td>0</td>\n",
       "      <td>...</td>\n",
       "      <td>0</td>\n",
       "      <td>0</td>\n",
       "      <td>2</td>\n",
       "      <td>0</td>\n",
       "      <td>0</td>\n",
       "      <td>0</td>\n",
       "      <td>0</td>\n",
       "      <td>0</td>\n",
       "      <td>0</td>\n",
       "      <td>0</td>\n",
       "    </tr>\n",
       "    <tr>\n",
       "      <th>1</th>\n",
       "      <td>63</td>\n",
       "      <td>94</td>\n",
       "      <td>356</td>\n",
       "      <td>339</td>\n",
       "      <td>397</td>\n",
       "      <td>429</td>\n",
       "      <td>17534</td>\n",
       "      <td>8</td>\n",
       "      <td>1424</td>\n",
       "      <td>0</td>\n",
       "      <td>...</td>\n",
       "      <td>0</td>\n",
       "      <td>0</td>\n",
       "      <td>0</td>\n",
       "      <td>0</td>\n",
       "      <td>0</td>\n",
       "      <td>0</td>\n",
       "      <td>0</td>\n",
       "      <td>0</td>\n",
       "      <td>0</td>\n",
       "      <td>0</td>\n",
       "    </tr>\n",
       "    <tr>\n",
       "      <th>2</th>\n",
       "      <td>11</td>\n",
       "      <td>11577</td>\n",
       "      <td>10356</td>\n",
       "      <td>3933</td>\n",
       "      <td>10470</td>\n",
       "      <td>4360</td>\n",
       "      <td>11233</td>\n",
       "      <td>2863</td>\n",
       "      <td>4782</td>\n",
       "      <td>0</td>\n",
       "      <td>...</td>\n",
       "      <td>0</td>\n",
       "      <td>0</td>\n",
       "      <td>0</td>\n",
       "      <td>0</td>\n",
       "      <td>0</td>\n",
       "      <td>0</td>\n",
       "      <td>0</td>\n",
       "      <td>0</td>\n",
       "      <td>0</td>\n",
       "      <td>0</td>\n",
       "    </tr>\n",
       "    <tr>\n",
       "      <th>3</th>\n",
       "      <td>599</td>\n",
       "      <td>146</td>\n",
       "      <td>5548</td>\n",
       "      <td>13442</td>\n",
       "      <td>213</td>\n",
       "      <td>4504</td>\n",
       "      <td>0</td>\n",
       "      <td>250</td>\n",
       "      <td>3486</td>\n",
       "      <td>5890</td>\n",
       "      <td>...</td>\n",
       "      <td>0</td>\n",
       "      <td>0</td>\n",
       "      <td>0</td>\n",
       "      <td>0</td>\n",
       "      <td>0</td>\n",
       "      <td>0</td>\n",
       "      <td>0</td>\n",
       "      <td>0</td>\n",
       "      <td>0</td>\n",
       "      <td>0</td>\n",
       "    </tr>\n",
       "    <tr>\n",
       "      <th>4</th>\n",
       "      <td>40</td>\n",
       "      <td>3810</td>\n",
       "      <td>9773</td>\n",
       "      <td>3233</td>\n",
       "      <td>3228</td>\n",
       "      <td>3723</td>\n",
       "      <td>10393</td>\n",
       "      <td>86</td>\n",
       "      <td>5362</td>\n",
       "      <td>3</td>\n",
       "      <td>...</td>\n",
       "      <td>0</td>\n",
       "      <td>0</td>\n",
       "      <td>0</td>\n",
       "      <td>0</td>\n",
       "      <td>0</td>\n",
       "      <td>0</td>\n",
       "      <td>0</td>\n",
       "      <td>0</td>\n",
       "      <td>0</td>\n",
       "      <td>0</td>\n",
       "    </tr>\n",
       "    <tr>\n",
       "      <th>...</th>\n",
       "      <td>...</td>\n",
       "      <td>...</td>\n",
       "      <td>...</td>\n",
       "      <td>...</td>\n",
       "      <td>...</td>\n",
       "      <td>...</td>\n",
       "      <td>...</td>\n",
       "      <td>...</td>\n",
       "      <td>...</td>\n",
       "      <td>...</td>\n",
       "      <td>...</td>\n",
       "      <td>...</td>\n",
       "      <td>...</td>\n",
       "      <td>...</td>\n",
       "      <td>...</td>\n",
       "      <td>...</td>\n",
       "      <td>...</td>\n",
       "      <td>...</td>\n",
       "      <td>...</td>\n",
       "      <td>...</td>\n",
       "      <td>...</td>\n",
       "    </tr>\n",
       "    <tr>\n",
       "      <th>67</th>\n",
       "      <td>25405</td>\n",
       "      <td>14829</td>\n",
       "      <td>5322</td>\n",
       "      <td>885</td>\n",
       "      <td>6697</td>\n",
       "      <td>812</td>\n",
       "      <td>4</td>\n",
       "      <td>299</td>\n",
       "      <td>2577</td>\n",
       "      <td>23</td>\n",
       "      <td>...</td>\n",
       "      <td>0</td>\n",
       "      <td>0</td>\n",
       "      <td>0</td>\n",
       "      <td>0</td>\n",
       "      <td>0</td>\n",
       "      <td>0</td>\n",
       "      <td>0</td>\n",
       "      <td>0</td>\n",
       "      <td>0</td>\n",
       "      <td>0</td>\n",
       "    </tr>\n",
       "    <tr>\n",
       "      <th>68</th>\n",
       "      <td>150</td>\n",
       "      <td>1799</td>\n",
       "      <td>1192</td>\n",
       "      <td>9424</td>\n",
       "      <td>1837</td>\n",
       "      <td>3178</td>\n",
       "      <td>5</td>\n",
       "      <td>103</td>\n",
       "      <td>5999</td>\n",
       "      <td>411</td>\n",
       "      <td>...</td>\n",
       "      <td>0</td>\n",
       "      <td>0</td>\n",
       "      <td>0</td>\n",
       "      <td>0</td>\n",
       "      <td>0</td>\n",
       "      <td>0</td>\n",
       "      <td>0</td>\n",
       "      <td>0</td>\n",
       "      <td>0</td>\n",
       "      <td>0</td>\n",
       "    </tr>\n",
       "    <tr>\n",
       "      <th>69</th>\n",
       "      <td>4419</td>\n",
       "      <td>7098</td>\n",
       "      <td>1321</td>\n",
       "      <td>38462</td>\n",
       "      <td>5317</td>\n",
       "      <td>106</td>\n",
       "      <td>21</td>\n",
       "      <td>91</td>\n",
       "      <td>2727</td>\n",
       "      <td>647</td>\n",
       "      <td>...</td>\n",
       "      <td>0</td>\n",
       "      <td>0</td>\n",
       "      <td>0</td>\n",
       "      <td>1</td>\n",
       "      <td>0</td>\n",
       "      <td>0</td>\n",
       "      <td>0</td>\n",
       "      <td>0</td>\n",
       "      <td>0</td>\n",
       "      <td>0</td>\n",
       "    </tr>\n",
       "    <tr>\n",
       "      <th>70</th>\n",
       "      <td>3558</td>\n",
       "      <td>6251</td>\n",
       "      <td>3294</td>\n",
       "      <td>37432</td>\n",
       "      <td>5870</td>\n",
       "      <td>9</td>\n",
       "      <td>27</td>\n",
       "      <td>66</td>\n",
       "      <td>4156</td>\n",
       "      <td>472</td>\n",
       "      <td>...</td>\n",
       "      <td>0</td>\n",
       "      <td>0</td>\n",
       "      <td>0</td>\n",
       "      <td>1</td>\n",
       "      <td>0</td>\n",
       "      <td>0</td>\n",
       "      <td>0</td>\n",
       "      <td>0</td>\n",
       "      <td>0</td>\n",
       "      <td>0</td>\n",
       "    </tr>\n",
       "    <tr>\n",
       "      <th>71</th>\n",
       "      <td>4534</td>\n",
       "      <td>4655</td>\n",
       "      <td>2136</td>\n",
       "      <td>7638</td>\n",
       "      <td>3800</td>\n",
       "      <td>6608</td>\n",
       "      <td>44</td>\n",
       "      <td>5743</td>\n",
       "      <td>6313</td>\n",
       "      <td>0</td>\n",
       "      <td>...</td>\n",
       "      <td>0</td>\n",
       "      <td>0</td>\n",
       "      <td>1</td>\n",
       "      <td>0</td>\n",
       "      <td>0</td>\n",
       "      <td>0</td>\n",
       "      <td>0</td>\n",
       "      <td>0</td>\n",
       "      <td>0</td>\n",
       "      <td>0</td>\n",
       "    </tr>\n",
       "  </tbody>\n",
       "</table>\n",
       "<p>72 rows × 449 columns</p>\n",
       "</div>"
      ],
      "text/plain": [
       "    Escherichia-Shigella  Collinsella  Agathobacter  Bacteroides  Blautia  \\\n",
       "0                   4934         4086          2273         8303     3706   \n",
       "1                     63           94           356          339      397   \n",
       "2                     11        11577         10356         3933    10470   \n",
       "3                    599          146          5548        13442      213   \n",
       "4                     40         3810          9773         3233     3228   \n",
       "..                   ...          ...           ...          ...      ...   \n",
       "67                 25405        14829          5322          885     6697   \n",
       "68                   150         1799          1192         9424     1837   \n",
       "69                  4419         7098          1321        38462     5317   \n",
       "70                  3558         6251          3294        37432     5870   \n",
       "71                  4534         4655          2136         7638     3800   \n",
       "\n",
       "    Phascolarctobacterium  Prevotella 9  Akkermansia  Faecalibacterium  \\\n",
       "0                    6831             0         6260              6661   \n",
       "1                     429         17534            8              1424   \n",
       "2                    4360         11233         2863              4782   \n",
       "3                    4504             0          250              3486   \n",
       "4                    3723         10393           86              5362   \n",
       "..                    ...           ...          ...               ...   \n",
       "67                    812             4          299              2577   \n",
       "68                   3178             5          103              5999   \n",
       "69                    106            21           91              2727   \n",
       "70                      9            27           66              4156   \n",
       "71                   6608            44         5743              6313   \n",
       "\n",
       "    Methanobrevibacter  ...  Pseudoramibacter  Deinococcus  Marinifilaceae  \\\n",
       "0                    0  ...                 0            0               2   \n",
       "1                    0  ...                 0            0               0   \n",
       "2                    0  ...                 0            0               0   \n",
       "3                 5890  ...                 0            0               0   \n",
       "4                    3  ...                 0            0               0   \n",
       "..                 ...  ...               ...          ...             ...   \n",
       "67                  23  ...                 0            0               0   \n",
       "68                 411  ...                 0            0               0   \n",
       "69                 647  ...                 0            0               0   \n",
       "70                 472  ...                 0            0               0   \n",
       "71                   0  ...                 0            0               1   \n",
       "\n",
       "    Actinobacteria  Selenomonadales  Victivallaceae_uncultured bacterium  \\\n",
       "0                0                0                                    0   \n",
       "1                0                0                                    0   \n",
       "2                0                0                                    0   \n",
       "3                0                0                                    0   \n",
       "4                0                0                                    0   \n",
       "..             ...              ...                                  ...   \n",
       "67               0                0                                    0   \n",
       "68               0                0                                    0   \n",
       "69               1                0                                    0   \n",
       "70               1                0                                    0   \n",
       "71               0                0                                    0   \n",
       "\n",
       "    Vermiphilaceae_uncultured bacterium  Bacteroidia  Methylobacterium  \\\n",
       "0                                     0            0                 0   \n",
       "1                                     0            0                 0   \n",
       "2                                     0            0                 0   \n",
       "3                                     0            0                 0   \n",
       "4                                     0            0                 0   \n",
       "..                                  ...          ...               ...   \n",
       "67                                    0            0                 0   \n",
       "68                                    0            0                 0   \n",
       "69                                    0            0                 0   \n",
       "70                                    0            0                 0   \n",
       "71                                    0            0                 0   \n",
       "\n",
       "    Propionimicrobium  \n",
       "0                   0  \n",
       "1                   0  \n",
       "2                   0  \n",
       "3                   0  \n",
       "4                   0  \n",
       "..                ...  \n",
       "67                  0  \n",
       "68                  0  \n",
       "69                  0  \n",
       "70                  0  \n",
       "71                  0  \n",
       "\n",
       "[72 rows x 449 columns]"
      ]
     },
     "execution_count": 15,
     "metadata": {},
     "output_type": "execute_result"
    }
   ],
   "source": [
    "X_train"
   ]
  },
  {
   "cell_type": "markdown",
   "metadata": {
    "id": "7joN711eeaki"
   },
   "source": [
    "## Normalization "
   ]
  },
  {
   "cell_type": "code",
   "execution_count": 16,
   "metadata": {
    "id": "_OzfSUzdeakj"
   },
   "outputs": [],
   "source": [
    "#X_train = np.log2(X_train + 0.5)\n",
    "#X_test = np.log2(X_test + 0.5)"
   ]
  },
  {
   "cell_type": "markdown",
   "metadata": {
    "id": "9u9aqBdVeakj"
   },
   "source": [
    "## Training the Random Forest model on the Training set"
   ]
  },
  {
   "cell_type": "code",
   "execution_count": 17,
   "metadata": {
    "id": "1KcKoQobeakk",
    "outputId": "a3f00e01-3149-493c-f2dc-762ae4e6b26a"
   },
   "outputs": [
    {
     "name": "stderr",
     "output_type": "stream",
     "text": [
      "[Parallel(n_jobs=-1)]: Using backend ThreadingBackend with 12 concurrent workers.\n",
      "[Parallel(n_jobs=-1)]: Done  26 tasks      | elapsed:    0.0s\n",
      "[Parallel(n_jobs=-1)]: Done 176 tasks      | elapsed:    0.0s\n",
      "[Parallel(n_jobs=-1)]: Done 426 tasks      | elapsed:    0.2s\n",
      "[Parallel(n_jobs=-1)]: Done 776 tasks      | elapsed:    0.5s\n",
      "[Parallel(n_jobs=-1)]: Done 1000 out of 1000 | elapsed:    0.7s finished\n"
     ]
    },
    {
     "data": {
      "text/plain": [
       "RandomForestClassifier(criterion='entropy', max_features='sqrt',\n",
       "                       n_estimators=1000, n_jobs=-1, random_state=0, verbose=1)"
      ]
     },
     "execution_count": 17,
     "metadata": {},
     "output_type": "execute_result"
    }
   ],
   "source": [
    "from sklearn.ensemble import RandomForestClassifier\n",
    "classifier = RandomForestClassifier(n_estimators=1000,\n",
    "                                   criterion = 'entropy',\n",
    "                                   min_samples_leaf= 1,\n",
    "                                   min_samples_split= 2,\n",
    "                                   random_state=0, \n",
    "                                   max_features= 'sqrt',\n",
    "                                   n_jobs=-1, verbose = 1)\n",
    "classifier.fit(X_train, y_train) \n",
    "\n",
    "\n",
    "#cambiar hiperparámetros ..\n",
    "\n"
   ]
  },
  {
   "cell_type": "code",
   "execution_count": 18,
   "metadata": {
    "id": "0U-9yu1heakl",
    "outputId": "93b80778-ef93-4f82-9878-c451cfde5fec"
   },
   "outputs": [
    {
     "name": "stderr",
     "output_type": "stream",
     "text": [
      "[Parallel(n_jobs=12)]: Using backend ThreadingBackend with 12 concurrent workers.\n",
      "[Parallel(n_jobs=12)]: Done  26 tasks      | elapsed:    0.0s\n",
      "[Parallel(n_jobs=12)]: Done 176 tasks      | elapsed:    0.0s\n",
      "[Parallel(n_jobs=12)]: Done 426 tasks      | elapsed:    0.0s\n",
      "[Parallel(n_jobs=12)]: Done 776 tasks      | elapsed:    0.0s\n",
      "[Parallel(n_jobs=12)]: Done 1000 out of 1000 | elapsed:    0.0s finished\n"
     ]
    }
   ],
   "source": [
    "y_pred = classifier.predict(X_test)"
   ]
  },
  {
   "cell_type": "code",
   "execution_count": 19,
   "metadata": {
    "id": "gV9R21p6eakm",
    "outputId": "fb92af38-e943-41e6-f32e-3fb87d68700d"
   },
   "outputs": [
    {
     "name": "stdout",
     "output_type": "stream",
     "text": [
      "Mean Absolute Error: 0.29 degrees.\n"
     ]
    }
   ],
   "source": [
    "# Calculate the absolute errors\n",
    "errors = abs(y_pred - y_test)\n",
    "# Print out the mean absolute error (mae)\n",
    "print('Mean Absolute Error:', round(np.mean(errors), 2), 'degrees.')\n",
    "\n"
   ]
  },
  {
   "cell_type": "markdown",
   "metadata": {
    "id": "jv7Ktrv5eakm"
   },
   "source": [
    "## Making the Confusion Matrix"
   ]
  },
  {
   "cell_type": "code",
   "execution_count": 20,
   "metadata": {
    "id": "NNj8uLo0eakn",
    "outputId": "b9a524f1-97c0-4e9d-d71a-ebc8013ed357"
   },
   "outputs": [
    {
     "name": "stdout",
     "output_type": "stream",
     "text": [
      "[[9 7]\n",
      " [0 8]]\n"
     ]
    },
    {
     "data": {
      "text/plain": [
       "0.7083333333333334"
      ]
     },
     "execution_count": 20,
     "metadata": {},
     "output_type": "execute_result"
    }
   ],
   "source": [
    "\n",
    "from sklearn.metrics import confusion_matrix, accuracy_score\n",
    "cm = confusion_matrix(y_test, y_pred)\n",
    "print(cm)\n",
    "accuracy_score(y_test, y_pred)"
   ]
  },
  {
   "cell_type": "code",
   "execution_count": 21,
   "metadata": {
    "id": "K6Pl2EAWeako",
    "outputId": "77d5a4f8-ece1-49d1-f016-13612525f759"
   },
   "outputs": [
    {
     "data": {
      "text/plain": [
       "<AxesSubplot:>"
      ]
     },
     "execution_count": 21,
     "metadata": {},
     "output_type": "execute_result"
    },
    {
     "data": {
      "image/png": "[encoded data removed]",
      "text/plain": [
       "<Figure size 432x288 with 2 Axes>"
      ]
     },
     "metadata": {
      "needs_background": "light"
     },
     "output_type": "display_data"
    }
   ],
   "source": [
    "# Testing Set Performance\n",
    "cm = confusion_matrix(y_pred, y_test)\n",
    "sns.heatmap(cm, annot=True)"
   ]
  },
  {
   "cell_type": "code",
   "execution_count": 22,
   "metadata": {
    "id": "NUROcRTteakp",
    "outputId": "4c1ec0bf-eaa7-40f2-fed7-5ef9a04a268d"
   },
   "outputs": [
    {
     "name": "stdout",
     "output_type": "stream",
     "text": [
      "Accuracy is: 0.7083333333333334\n"
     ]
    }
   ],
   "source": [
    "print('Accuracy is:', accuracy_score(y_test, y_pred))\n",
    "\n",
    "\n",
    "\n"
   ]
  },
  {
   "cell_type": "markdown",
   "metadata": {
    "id": "TZEeRewSeakq"
   },
   "source": [
    "## How to create a ROC curve"
   ]
  },
  {
   "cell_type": "code",
   "execution_count": 23,
   "metadata": {
    "id": "lM8rM0Nheakq"
   },
   "outputs": [],
   "source": [
    "import seaborn as sns  # data visualization library  \n"
   ]
  },
  {
   "cell_type": "code",
   "execution_count": 24,
   "metadata": {
    "id": "uZ2VqW-Beakr",
    "outputId": "ffd489dc-100a-4f59-cc47-7875c04e9714"
   },
   "outputs": [
    {
     "name": "stderr",
     "output_type": "stream",
     "text": [
      "[Parallel(n_jobs=12)]: Using backend ThreadingBackend with 12 concurrent workers.\n",
      "[Parallel(n_jobs=12)]: Done  26 tasks      | elapsed:    0.0s\n",
      "[Parallel(n_jobs=12)]: Done 176 tasks      | elapsed:    0.0s\n",
      "[Parallel(n_jobs=12)]: Done 426 tasks      | elapsed:    0.0s\n",
      "[Parallel(n_jobs=12)]: Done 776 tasks      | elapsed:    0.0s\n",
      "[Parallel(n_jobs=12)]: Done 1000 out of 1000 | elapsed:    0.0s finished\n",
      "[Parallel(n_jobs=12)]: Using backend ThreadingBackend with 12 concurrent workers.\n",
      "[Parallel(n_jobs=12)]: Done  26 tasks      | elapsed:    0.0s\n",
      "[Parallel(n_jobs=12)]: Done 176 tasks      | elapsed:    0.0s\n",
      "[Parallel(n_jobs=12)]: Done 426 tasks      | elapsed:    0.0s\n",
      "[Parallel(n_jobs=12)]: Done 776 tasks      | elapsed:    0.0s\n",
      "[Parallel(n_jobs=12)]: Done 1000 out of 1000 | elapsed:    0.0s finished\n"
     ]
    },
    {
     "data": {
      "image/png": "[encoded data removed]",
      "text/plain": [
       "<Figure size 432x288 with 1 Axes>"
      ]
     },
     "metadata": {
      "needs_background": "light"
     },
     "output_type": "display_data"
    }
   ],
   "source": [
    "from sklearn.metrics import roc_auc_score\n",
    "from sklearn.metrics import roc_curve\n",
    "rf_roc_auc = roc_auc_score(y_test, classifier.predict(X_test))\n",
    "fpr, tpr, thresholds = roc_curve(y_test, classifier.predict_proba(X_test)[:,1])\n",
    "plt.figure()\n",
    "plt.plot(fpr, tpr, label='RF (area = %0.2f)' % rf_roc_auc)\n",
    "plt.plot([0, 1], [0, 1],'r--')\n",
    "plt.xlim([0.0, 1.0])\n",
    "plt.ylim([0.0, 1.05])\n",
    "plt.xlabel('False Positive Rate')\n",
    "plt.ylabel('True Positive Rate')\n",
    "plt.legend(loc=\"lower right\")\n",
    "plt.savefig('Log_ROC')\n",
    "plt.show() "
   ]
  },
  {
   "cell_type": "code",
   "execution_count": 25,
   "metadata": {
    "id": "JUJ1RoOceaks",
    "outputId": "c8f26ee1-2f4f-45dd-862a-3dc775b2fe00"
   },
   "outputs": [
    {
     "name": "stdout",
     "output_type": "stream",
     "text": [
      "              precision    recall  f1-score   support\n",
      "\n",
      "           0       1.00      0.56      0.72        16\n",
      "           1       0.53      1.00      0.70         8\n",
      "\n",
      "    accuracy                           0.71        24\n",
      "   macro avg       0.77      0.78      0.71        24\n",
      "weighted avg       0.84      0.71      0.71        24\n",
      "\n"
     ]
    }
   ],
   "source": [
    "from sklearn.metrics import classification_report\n",
    "print(classification_report(y_test, y_pred))"
   ]
  },
  {
   "cell_type": "code",
   "execution_count": 26,
   "metadata": {
    "id": "AadgLZDTeaks"
   },
   "outputs": [],
   "source": [
    "#from sklearn.model_selection import cross_val_score\n",
    "#accuracies = cross_val_score(estimator = clf_1, X = X_train, y = y_train, cv = 10)\n",
    "#print(\"Accuracy: {:.2f} %\".format(accuracies.mean()*100))\n",
    "#print(\"Standard Deviation: {:.2f} %\".format(accuracies.std()*100))\n",
    "\n",
    "#.2f -> two decimals before the pint\n",
    "\n",
    "\n"
   ]
  },
  {
   "cell_type": "markdown",
   "metadata": {},
   "source": [
    "## Applying Cross Validation"
   ]
  },
  {
   "cell_type": "code",
   "execution_count": 27,
   "metadata": {
    "scrolled": true
   },
   "outputs": [
    {
     "name": "stdout",
     "output_type": "stream",
     "text": [
      "Mean accuracy: 0.726\n",
      "Standard Deviation accuracy: 9.06 %\n"
     ]
    }
   ],
   "source": [
    "from sklearn.model_selection import cross_val_score\n",
    "from sklearn.model_selection import RepeatedStratifiedKFold\n",
    "from numpy import mean\n",
    "cv = RepeatedStratifiedKFold(n_splits=5, n_repeats=1, random_state=1)\n",
    "scores = cross_val_score(classifier, X, y, scoring='accuracy', cv=cv, n_jobs=-1)\n",
    "\n",
    "\n",
    "\n",
    "print('Mean accuracy: %.3f' % mean(scores))\n",
    "print(\"Standard Deviation accuracy: {:.2f} %\".format(scores.std()*100))"
   ]
  },
  {
   "cell_type": "code",
   "execution_count": 28,
   "metadata": {},
   "outputs": [
    {
     "name": "stdout",
     "output_type": "stream",
     "text": [
      "Mean ROC AUC with CV: 0.818\n",
      "Standard Deviation roc auc: 12.39 %\n"
     ]
    }
   ],
   "source": [
    "from sklearn.model_selection import cross_val_score\n",
    "from sklearn.model_selection import RepeatedStratifiedKFold\n",
    "from numpy import mean\n",
    "cv = RepeatedStratifiedKFold(n_splits=5, n_repeats=1, random_state=1)\n",
    "scores = cross_val_score(classifier, X, y, scoring='roc_auc', cv=cv, n_jobs=-1)\n",
    "\n",
    "print('Mean ROC AUC with CV: %.3f' % mean(scores))\n",
    "print(\"Standard Deviation roc auc: {:.2f} %\".format(scores.std()*100))\n"
   ]
  },
  {
   "cell_type": "code",
   "execution_count": 29,
   "metadata": {},
   "outputs": [],
   "source": [
    "#from sklearn.model_selection import StratifiedKFold\n",
    "import matplotlib.patches as patches\n",
    "from scipy import interp\n",
    "from sklearn.metrics import roc_curve, auc\n",
    "cv = RepeatedStratifiedKFold(n_splits=10, n_repeats=1, random_state=1)\n",
    "\n",
    "#cv = StratifiedKFold(n_splits=10,shuffle=False)"
   ]
  },
  {
   "cell_type": "code",
   "execution_count": 30,
   "metadata": {},
   "outputs": [
    {
     "name": "stderr",
     "output_type": "stream",
     "text": [
      "[Parallel(n_jobs=-1)]: Using backend ThreadingBackend with 12 concurrent workers.\n",
      "[Parallel(n_jobs=-1)]: Done  26 tasks      | elapsed:    0.0s\n",
      "[Parallel(n_jobs=-1)]: Done 176 tasks      | elapsed:    0.0s\n",
      "[Parallel(n_jobs=-1)]: Done 426 tasks      | elapsed:    0.2s\n",
      "[Parallel(n_jobs=-1)]: Done 776 tasks      | elapsed:    0.5s\n",
      "[Parallel(n_jobs=-1)]: Done 1000 out of 1000 | elapsed:    0.7s finished\n",
      "[Parallel(n_jobs=12)]: Using backend ThreadingBackend with 12 concurrent workers.\n",
      "[Parallel(n_jobs=12)]: Done  26 tasks      | elapsed:    0.0s\n",
      "[Parallel(n_jobs=12)]: Done 176 tasks      | elapsed:    0.0s\n",
      "[Parallel(n_jobs=12)]: Done 426 tasks      | elapsed:    0.0s\n",
      "[Parallel(n_jobs=12)]: Done 776 tasks      | elapsed:    0.0s\n",
      "[Parallel(n_jobs=12)]: Done 1000 out of 1000 | elapsed:    0.0s finished\n",
      "<ipython-input-30-6367600a48db>:17: DeprecationWarning: scipy.interp is deprecated and will be removed in SciPy 2.0.0, use numpy.interp instead\n",
      "  tprs.append(interp(mean_fpr, fpr, tpr))\n",
      "[Parallel(n_jobs=-1)]: Using backend ThreadingBackend with 12 concurrent workers.\n",
      "[Parallel(n_jobs=-1)]: Done  26 tasks      | elapsed:    0.0s\n",
      "[Parallel(n_jobs=-1)]: Done 176 tasks      | elapsed:    0.0s\n",
      "[Parallel(n_jobs=-1)]: Done 426 tasks      | elapsed:    0.2s\n",
      "[Parallel(n_jobs=-1)]: Done 776 tasks      | elapsed:    0.5s\n",
      "[Parallel(n_jobs=-1)]: Done 1000 out of 1000 | elapsed:    0.7s finished\n",
      "[Parallel(n_jobs=12)]: Using backend ThreadingBackend with 12 concurrent workers.\n",
      "[Parallel(n_jobs=12)]: Done  26 tasks      | elapsed:    0.0s\n",
      "[Parallel(n_jobs=12)]: Done 176 tasks      | elapsed:    0.0s\n",
      "[Parallel(n_jobs=12)]: Done 426 tasks      | elapsed:    0.0s\n",
      "[Parallel(n_jobs=12)]: Done 776 tasks      | elapsed:    0.0s\n",
      "[Parallel(n_jobs=12)]: Done 1000 out of 1000 | elapsed:    0.0s finished\n",
      "<ipython-input-30-6367600a48db>:17: DeprecationWarning: scipy.interp is deprecated and will be removed in SciPy 2.0.0, use numpy.interp instead\n",
      "  tprs.append(interp(mean_fpr, fpr, tpr))\n",
      "[Parallel(n_jobs=-1)]: Using backend ThreadingBackend with 12 concurrent workers.\n",
      "[Parallel(n_jobs=-1)]: Done  26 tasks      | elapsed:    0.0s\n",
      "[Parallel(n_jobs=-1)]: Done 176 tasks      | elapsed:    0.1s\n",
      "[Parallel(n_jobs=-1)]: Done 426 tasks      | elapsed:    0.2s\n",
      "[Parallel(n_jobs=-1)]: Done 776 tasks      | elapsed:    0.5s\n",
      "[Parallel(n_jobs=-1)]: Done 1000 out of 1000 | elapsed:    0.7s finished\n",
      "[Parallel(n_jobs=12)]: Using backend ThreadingBackend with 12 concurrent workers.\n",
      "[Parallel(n_jobs=12)]: Done  26 tasks      | elapsed:    0.0s\n",
      "[Parallel(n_jobs=12)]: Done 176 tasks      | elapsed:    0.0s\n",
      "[Parallel(n_jobs=12)]: Done 426 tasks      | elapsed:    0.0s\n",
      "[Parallel(n_jobs=12)]: Done 776 tasks      | elapsed:    0.0s\n",
      "[Parallel(n_jobs=12)]: Done 1000 out of 1000 | elapsed:    0.0s finished\n",
      "<ipython-input-30-6367600a48db>:17: DeprecationWarning: scipy.interp is deprecated and will be removed in SciPy 2.0.0, use numpy.interp instead\n",
      "  tprs.append(interp(mean_fpr, fpr, tpr))\n",
      "[Parallel(n_jobs=-1)]: Using backend ThreadingBackend with 12 concurrent workers.\n",
      "[Parallel(n_jobs=-1)]: Done  26 tasks      | elapsed:    0.0s\n",
      "[Parallel(n_jobs=-1)]: Done 176 tasks      | elapsed:    0.0s\n",
      "[Parallel(n_jobs=-1)]: Done 426 tasks      | elapsed:    0.2s\n",
      "[Parallel(n_jobs=-1)]: Done 776 tasks      | elapsed:    0.5s\n",
      "[Parallel(n_jobs=-1)]: Done 1000 out of 1000 | elapsed:    0.6s finished\n",
      "[Parallel(n_jobs=12)]: Using backend ThreadingBackend with 12 concurrent workers.\n",
      "[Parallel(n_jobs=12)]: Done  26 tasks      | elapsed:    0.0s\n",
      "[Parallel(n_jobs=12)]: Done 176 tasks      | elapsed:    0.0s\n",
      "[Parallel(n_jobs=12)]: Done 426 tasks      | elapsed:    0.0s\n",
      "[Parallel(n_jobs=12)]: Done 776 tasks      | elapsed:    0.0s\n",
      "[Parallel(n_jobs=12)]: Done 1000 out of 1000 | elapsed:    0.0s finished\n",
      "<ipython-input-30-6367600a48db>:17: DeprecationWarning: scipy.interp is deprecated and will be removed in SciPy 2.0.0, use numpy.interp instead\n",
      "  tprs.append(interp(mean_fpr, fpr, tpr))\n",
      "[Parallel(n_jobs=-1)]: Using backend ThreadingBackend with 12 concurrent workers.\n",
      "[Parallel(n_jobs=-1)]: Done  26 tasks      | elapsed:    0.0s\n",
      "[Parallel(n_jobs=-1)]: Done 176 tasks      | elapsed:    0.0s\n",
      "[Parallel(n_jobs=-1)]: Done 426 tasks      | elapsed:    0.2s\n",
      "[Parallel(n_jobs=-1)]: Done 776 tasks      | elapsed:    0.5s\n",
      "[Parallel(n_jobs=-1)]: Done 1000 out of 1000 | elapsed:    0.7s finished\n",
      "[Parallel(n_jobs=12)]: Using backend ThreadingBackend with 12 concurrent workers.\n",
      "[Parallel(n_jobs=12)]: Done  26 tasks      | elapsed:    0.0s\n",
      "[Parallel(n_jobs=12)]: Done 176 tasks      | elapsed:    0.0s\n",
      "[Parallel(n_jobs=12)]: Done 426 tasks      | elapsed:    0.0s\n",
      "[Parallel(n_jobs=12)]: Done 776 tasks      | elapsed:    0.0s\n",
      "[Parallel(n_jobs=12)]: Done 1000 out of 1000 | elapsed:    0.0s finished\n",
      "<ipython-input-30-6367600a48db>:17: DeprecationWarning: scipy.interp is deprecated and will be removed in SciPy 2.0.0, use numpy.interp instead\n",
      "  tprs.append(interp(mean_fpr, fpr, tpr))\n",
      "[Parallel(n_jobs=-1)]: Using backend ThreadingBackend with 12 concurrent workers.\n",
      "[Parallel(n_jobs=-1)]: Done  26 tasks      | elapsed:    0.0s\n",
      "[Parallel(n_jobs=-1)]: Done 176 tasks      | elapsed:    0.0s\n",
      "[Parallel(n_jobs=-1)]: Done 426 tasks      | elapsed:    0.2s\n",
      "[Parallel(n_jobs=-1)]: Done 776 tasks      | elapsed:    0.5s\n",
      "[Parallel(n_jobs=-1)]: Done 1000 out of 1000 | elapsed:    0.7s finished\n",
      "[Parallel(n_jobs=12)]: Using backend ThreadingBackend with 12 concurrent workers.\n",
      "[Parallel(n_jobs=12)]: Done  26 tasks      | elapsed:    0.0s\n",
      "[Parallel(n_jobs=12)]: Done 176 tasks      | elapsed:    0.0s\n",
      "[Parallel(n_jobs=12)]: Done 426 tasks      | elapsed:    0.0s\n",
      "[Parallel(n_jobs=12)]: Done 776 tasks      | elapsed:    0.0s\n",
      "[Parallel(n_jobs=12)]: Done 1000 out of 1000 | elapsed:    0.0s finished\n",
      "<ipython-input-30-6367600a48db>:17: DeprecationWarning: scipy.interp is deprecated and will be removed in SciPy 2.0.0, use numpy.interp instead\n",
      "  tprs.append(interp(mean_fpr, fpr, tpr))\n",
      "[Parallel(n_jobs=-1)]: Using backend ThreadingBackend with 12 concurrent workers.\n",
      "[Parallel(n_jobs=-1)]: Done  26 tasks      | elapsed:    0.0s\n",
      "[Parallel(n_jobs=-1)]: Done 176 tasks      | elapsed:    0.0s\n",
      "[Parallel(n_jobs=-1)]: Done 426 tasks      | elapsed:    0.2s\n",
      "[Parallel(n_jobs=-1)]: Done 776 tasks      | elapsed:    0.5s\n",
      "[Parallel(n_jobs=-1)]: Done 1000 out of 1000 | elapsed:    0.7s finished\n",
      "[Parallel(n_jobs=12)]: Using backend ThreadingBackend with 12 concurrent workers.\n",
      "[Parallel(n_jobs=12)]: Done  26 tasks      | elapsed:    0.0s\n",
      "[Parallel(n_jobs=12)]: Done 176 tasks      | elapsed:    0.0s\n",
      "[Parallel(n_jobs=12)]: Done 426 tasks      | elapsed:    0.0s\n",
      "[Parallel(n_jobs=12)]: Done 776 tasks      | elapsed:    0.0s\n",
      "[Parallel(n_jobs=12)]: Done 1000 out of 1000 | elapsed:    0.0s finished\n",
      "<ipython-input-30-6367600a48db>:17: DeprecationWarning: scipy.interp is deprecated and will be removed in SciPy 2.0.0, use numpy.interp instead\n",
      "  tprs.append(interp(mean_fpr, fpr, tpr))\n",
      "[Parallel(n_jobs=-1)]: Using backend ThreadingBackend with 12 concurrent workers.\n",
      "[Parallel(n_jobs=-1)]: Done  26 tasks      | elapsed:    0.0s\n",
      "[Parallel(n_jobs=-1)]: Done 176 tasks      | elapsed:    0.0s\n",
      "[Parallel(n_jobs=-1)]: Done 426 tasks      | elapsed:    0.2s\n",
      "[Parallel(n_jobs=-1)]: Done 776 tasks      | elapsed:    0.5s\n",
      "[Parallel(n_jobs=-1)]: Done 1000 out of 1000 | elapsed:    0.7s finished\n",
      "[Parallel(n_jobs=12)]: Using backend ThreadingBackend with 12 concurrent workers.\n",
      "[Parallel(n_jobs=12)]: Done  26 tasks      | elapsed:    0.0s\n",
      "[Parallel(n_jobs=12)]: Done 176 tasks      | elapsed:    0.0s\n",
      "[Parallel(n_jobs=12)]: Done 426 tasks      | elapsed:    0.0s\n",
      "[Parallel(n_jobs=12)]: Done 776 tasks      | elapsed:    0.0s\n",
      "[Parallel(n_jobs=12)]: Done 1000 out of 1000 | elapsed:    0.0s finished\n",
      "<ipython-input-30-6367600a48db>:17: DeprecationWarning: scipy.interp is deprecated and will be removed in SciPy 2.0.0, use numpy.interp instead\n",
      "  tprs.append(interp(mean_fpr, fpr, tpr))\n",
      "[Parallel(n_jobs=-1)]: Using backend ThreadingBackend with 12 concurrent workers.\n",
      "[Parallel(n_jobs=-1)]: Done  26 tasks      | elapsed:    0.0s\n",
      "[Parallel(n_jobs=-1)]: Done 176 tasks      | elapsed:    0.0s\n",
      "[Parallel(n_jobs=-1)]: Done 426 tasks      | elapsed:    0.2s\n"
     ]
    },
    {
     "name": "stderr",
     "output_type": "stream",
     "text": [
      "[Parallel(n_jobs=-1)]: Done 776 tasks      | elapsed:    0.5s\n",
      "[Parallel(n_jobs=-1)]: Done 1000 out of 1000 | elapsed:    0.7s finished\n",
      "[Parallel(n_jobs=12)]: Using backend ThreadingBackend with 12 concurrent workers.\n",
      "[Parallel(n_jobs=12)]: Done  26 tasks      | elapsed:    0.0s\n",
      "[Parallel(n_jobs=12)]: Done 176 tasks      | elapsed:    0.0s\n",
      "[Parallel(n_jobs=12)]: Done 426 tasks      | elapsed:    0.0s\n",
      "[Parallel(n_jobs=12)]: Done 776 tasks      | elapsed:    0.0s\n",
      "[Parallel(n_jobs=12)]: Done 1000 out of 1000 | elapsed:    0.0s finished\n",
      "<ipython-input-30-6367600a48db>:17: DeprecationWarning: scipy.interp is deprecated and will be removed in SciPy 2.0.0, use numpy.interp instead\n",
      "  tprs.append(interp(mean_fpr, fpr, tpr))\n",
      "[Parallel(n_jobs=-1)]: Using backend ThreadingBackend with 12 concurrent workers.\n",
      "[Parallel(n_jobs=-1)]: Done  26 tasks      | elapsed:    0.0s\n",
      "[Parallel(n_jobs=-1)]: Done 176 tasks      | elapsed:    0.0s\n",
      "[Parallel(n_jobs=-1)]: Done 426 tasks      | elapsed:    0.2s\n",
      "[Parallel(n_jobs=-1)]: Done 776 tasks      | elapsed:    0.5s\n",
      "[Parallel(n_jobs=-1)]: Done 1000 out of 1000 | elapsed:    0.7s finished\n",
      "[Parallel(n_jobs=12)]: Using backend ThreadingBackend with 12 concurrent workers.\n",
      "[Parallel(n_jobs=12)]: Done  26 tasks      | elapsed:    0.0s\n",
      "[Parallel(n_jobs=12)]: Done 176 tasks      | elapsed:    0.0s\n",
      "[Parallel(n_jobs=12)]: Done 426 tasks      | elapsed:    0.0s\n",
      "[Parallel(n_jobs=12)]: Done 776 tasks      | elapsed:    0.0s\n",
      "[Parallel(n_jobs=12)]: Done 1000 out of 1000 | elapsed:    0.0s finished\n",
      "<ipython-input-30-6367600a48db>:17: DeprecationWarning: scipy.interp is deprecated and will be removed in SciPy 2.0.0, use numpy.interp instead\n",
      "  tprs.append(interp(mean_fpr, fpr, tpr))\n"
     ]
    },
    {
     "data": {
      "image/png": "[encoded data removed]",
      "text/plain": [
       "<Figure size 864x864 with 1 Axes>"
      ]
     },
     "metadata": {
      "needs_background": "light"
     },
     "output_type": "display_data"
    }
   ],
   "source": [
    "\n",
    "fig1 = plt.figure(figsize=[12,12])\n",
    "ax1 = fig1.add_subplot(111,aspect = 'equal')\n",
    "\n",
    "tprs = []\n",
    "aucs = []\n",
    "mean_fpr = np.linspace(0,1,100)\n",
    "i = 1\n",
    "    \n",
    "      \n",
    "for train_index, test_index in cv.split(X, y):\n",
    "    X_train = X.iloc[train_index]\n",
    "    y_train = y.iloc[train_index]  \n",
    "    X_test = X.iloc[test_index]\n",
    "    y_test = y.iloc[test_index]    \n",
    "    prediction = classifier.fit(X_train,y_train).predict_proba(X_test)\n",
    "    fpr, tpr, t = roc_curve(y_test, prediction[:, 1])\n",
    "    tprs.append(interp(mean_fpr, fpr, tpr))\n",
    "    roc_auc = auc(fpr, tpr)\n",
    "    aucs.append(roc_auc)\n",
    "    plt.plot(fpr, tpr, lw=2, alpha=0.3, label='ROC fold %d (AUC = %0.2f)' % (i, roc_auc))\n",
    "    i= i+1\n",
    "\n",
    "plt.plot([0,1],[0,1],linestyle = '--',lw = 2,color = 'black')\n",
    "mean_tpr = np.mean(tprs, axis=0)\n",
    "mean_auc = auc(mean_fpr, mean_tpr)\n",
    "std_auc = np.std(aucs)\n",
    "plt.plot(mean_fpr, mean_tpr, color='b',\n",
    "         label=r'Mean ROC (AUC = %0.2f $\\pm$ %0.2f)' % (mean_auc, std_auc),\n",
    "         lw=2, alpha=.8)\n",
    "\n",
    "\n",
    "std_tpr = np.std(tprs, axis=0)\n",
    "tprs_upper = np.minimum(mean_tpr + std_tpr, 1)\n",
    "tprs_lower = np.maximum(mean_tpr - std_tpr, 0)\n",
    "plt.fill_between(mean_fpr, tprs_lower, tprs_upper, color='grey', alpha=.2,\n",
    "                 label=r'$\\pm$ 1 std. dev.')\n",
    "\n",
    "plt.xlabel('False Positive Rate')\n",
    "plt.ylabel('True Positive Rate')\n",
    "plt.title('ROC')\n",
    "plt.legend(loc=\"lower right\")\n",
    "\n",
    "plt.show()"
   ]
  },
  {
   "cell_type": "code",
   "execution_count": 31,
   "metadata": {},
   "outputs": [],
   "source": [
    "from keras.wrappers.scikit_learn import KerasClassifier\n",
    "from sklearn.model_selection import cross_val_score\n",
    "from sklearn.model_selection import KFold\n",
    "from sklearn.model_selection import StratifiedKFold\n",
    "from sklearn.model_selection import RepeatedStratifiedKFold\n",
    "from sklearn.model_selection import cross_val_score\n",
    "from sklearn.metrics import roc_curve\n",
    "from sklearn.metrics import auc\n",
    "from imblearn.combine import SMOTETomek\n",
    "from imblearn.under_sampling import TomekLinks\n",
    "from sklearn.ensemble import RandomForestClassifier\n",
    "from sklearn.metrics import roc_auc_score\n",
    "from sklearn.metrics import roc_curve"
   ]
  },
  {
   "cell_type": "code",
   "execution_count": 32,
   "metadata": {},
   "outputs": [
    {
     "data": {
      "text/plain": [
       "<Figure size 720x720 with 0 Axes>"
      ]
     },
     "metadata": {},
     "output_type": "display_data"
    }
   ],
   "source": [
    "#kf = StratifiedKFold(n_splits=10,shuffle=True, random_state=16)\n",
    "kf= RepeatedStratifiedKFold(n_splits=5, n_repeats=1,random_state=65)\n",
    "cvscores = []\n",
    "tprs = []\n",
    "aucs = []\n",
    "mean_fpr = np.linspace(0, 1, 100)\n",
    "plt.figure(figsize=(10,10))\n",
    "i = 0\n",
    "Scores1 = []\n",
    "Scores2 = []"
   ]
  },
  {
   "cell_type": "code",
   "execution_count": 33,
   "metadata": {},
   "outputs": [],
   "source": [
    "X= X.values\n",
    "y= y.values"
   ]
  },
  {
   "cell_type": "code",
   "execution_count": 34,
   "metadata": {
    "scrolled": true
   },
   "outputs": [
    {
     "name": "stderr",
     "output_type": "stream",
     "text": [
      "[Parallel(n_jobs=-1)]: Using backend ThreadingBackend with 12 concurrent workers.\n",
      "[Parallel(n_jobs=-1)]: Done  26 tasks      | elapsed:    0.0s\n",
      "[Parallel(n_jobs=-1)]: Done 176 tasks      | elapsed:    0.0s\n",
      "[Parallel(n_jobs=-1)]: Done 426 tasks      | elapsed:    0.2s\n",
      "[Parallel(n_jobs=-1)]: Done 776 tasks      | elapsed:    0.5s\n",
      "[Parallel(n_jobs=-1)]: Done 1000 out of 1000 | elapsed:    0.7s finished\n",
      "[Parallel(n_jobs=12)]: Using backend ThreadingBackend with 12 concurrent workers.\n",
      "[Parallel(n_jobs=12)]: Done  26 tasks      | elapsed:    0.0s\n",
      "[Parallel(n_jobs=12)]: Done 176 tasks      | elapsed:    0.0s\n",
      "[Parallel(n_jobs=12)]: Done 426 tasks      | elapsed:    0.0s\n",
      "[Parallel(n_jobs=12)]: Done 776 tasks      | elapsed:    0.0s\n",
      "[Parallel(n_jobs=12)]: Done 1000 out of 1000 | elapsed:    0.0s finished\n",
      "[Parallel(n_jobs=12)]: Using backend ThreadingBackend with 12 concurrent workers.\n",
      "[Parallel(n_jobs=12)]: Done  26 tasks      | elapsed:    0.0s\n",
      "[Parallel(n_jobs=12)]: Done 176 tasks      | elapsed:    0.0s\n",
      "[Parallel(n_jobs=12)]: Done 426 tasks      | elapsed:    0.0s\n",
      "[Parallel(n_jobs=12)]: Done 776 tasks      | elapsed:    0.0s\n",
      "[Parallel(n_jobs=12)]: Done 1000 out of 1000 | elapsed:    0.0s finished\n",
      "[Parallel(n_jobs=12)]: Using backend ThreadingBackend with 12 concurrent workers.\n",
      "[Parallel(n_jobs=12)]: Done  26 tasks      | elapsed:    0.0s\n",
      "[Parallel(n_jobs=12)]: Done 176 tasks      | elapsed:    0.0s\n",
      "[Parallel(n_jobs=12)]: Done 426 tasks      | elapsed:    0.0s\n",
      "[Parallel(n_jobs=12)]: Done 776 tasks      | elapsed:    0.0s\n",
      "[Parallel(n_jobs=12)]: Done 1000 out of 1000 | elapsed:    0.0s finished\n",
      "[Parallel(n_jobs=-1)]: Using backend ThreadingBackend with 12 concurrent workers.\n",
      "[Parallel(n_jobs=-1)]: Done  26 tasks      | elapsed:    0.0s\n",
      "[Parallel(n_jobs=-1)]: Done 176 tasks      | elapsed:    0.1s\n",
      "[Parallel(n_jobs=-1)]: Done 426 tasks      | elapsed:    0.2s\n",
      "[Parallel(n_jobs=-1)]: Done 776 tasks      | elapsed:    0.5s\n",
      "[Parallel(n_jobs=-1)]: Done 1000 out of 1000 | elapsed:    0.7s finished\n",
      "[Parallel(n_jobs=12)]: Using backend ThreadingBackend with 12 concurrent workers.\n",
      "[Parallel(n_jobs=12)]: Done  26 tasks      | elapsed:    0.0s\n",
      "[Parallel(n_jobs=12)]: Done 176 tasks      | elapsed:    0.0s\n",
      "[Parallel(n_jobs=12)]: Done 426 tasks      | elapsed:    0.0s\n",
      "[Parallel(n_jobs=12)]: Done 776 tasks      | elapsed:    0.0s\n",
      "[Parallel(n_jobs=12)]: Done 1000 out of 1000 | elapsed:    0.0s finished\n",
      "[Parallel(n_jobs=12)]: Using backend ThreadingBackend with 12 concurrent workers.\n",
      "[Parallel(n_jobs=12)]: Done  26 tasks      | elapsed:    0.0s\n",
      "[Parallel(n_jobs=12)]: Done 176 tasks      | elapsed:    0.0s\n",
      "[Parallel(n_jobs=12)]: Done 426 tasks      | elapsed:    0.0s\n",
      "[Parallel(n_jobs=12)]: Done 776 tasks      | elapsed:    0.0s\n",
      "[Parallel(n_jobs=12)]: Done 1000 out of 1000 | elapsed:    0.0s finished\n",
      "[Parallel(n_jobs=12)]: Using backend ThreadingBackend with 12 concurrent workers.\n",
      "[Parallel(n_jobs=12)]: Done  26 tasks      | elapsed:    0.0s\n",
      "[Parallel(n_jobs=12)]: Done 176 tasks      | elapsed:    0.0s\n",
      "[Parallel(n_jobs=12)]: Done 426 tasks      | elapsed:    0.0s\n",
      "[Parallel(n_jobs=12)]: Done 776 tasks      | elapsed:    0.0s\n",
      "[Parallel(n_jobs=12)]: Done 1000 out of 1000 | elapsed:    0.0s finished\n",
      "[Parallel(n_jobs=-1)]: Using backend ThreadingBackend with 12 concurrent workers.\n",
      "[Parallel(n_jobs=-1)]: Done  26 tasks      | elapsed:    0.0s\n",
      "[Parallel(n_jobs=-1)]: Done 176 tasks      | elapsed:    0.0s\n",
      "[Parallel(n_jobs=-1)]: Done 426 tasks      | elapsed:    0.2s\n",
      "[Parallel(n_jobs=-1)]: Done 776 tasks      | elapsed:    0.5s\n",
      "[Parallel(n_jobs=-1)]: Done 1000 out of 1000 | elapsed:    0.7s finished\n",
      "[Parallel(n_jobs=12)]: Using backend ThreadingBackend with 12 concurrent workers.\n",
      "[Parallel(n_jobs=12)]: Done  26 tasks      | elapsed:    0.0s\n",
      "[Parallel(n_jobs=12)]: Done 176 tasks      | elapsed:    0.0s\n",
      "[Parallel(n_jobs=12)]: Done 426 tasks      | elapsed:    0.0s\n",
      "[Parallel(n_jobs=12)]: Done 776 tasks      | elapsed:    0.0s\n",
      "[Parallel(n_jobs=12)]: Done 1000 out of 1000 | elapsed:    0.0s finished\n",
      "[Parallel(n_jobs=12)]: Using backend ThreadingBackend with 12 concurrent workers.\n",
      "[Parallel(n_jobs=12)]: Done  26 tasks      | elapsed:    0.0s\n",
      "[Parallel(n_jobs=12)]: Done 176 tasks      | elapsed:    0.0s\n",
      "[Parallel(n_jobs=12)]: Done 426 tasks      | elapsed:    0.0s\n",
      "[Parallel(n_jobs=12)]: Done 776 tasks      | elapsed:    0.0s\n",
      "[Parallel(n_jobs=12)]: Done 1000 out of 1000 | elapsed:    0.0s finished\n",
      "[Parallel(n_jobs=12)]: Using backend ThreadingBackend with 12 concurrent workers.\n",
      "[Parallel(n_jobs=12)]: Done  26 tasks      | elapsed:    0.0s\n",
      "[Parallel(n_jobs=12)]: Done 176 tasks      | elapsed:    0.0s\n",
      "[Parallel(n_jobs=12)]: Done 426 tasks      | elapsed:    0.0s\n",
      "[Parallel(n_jobs=12)]: Done 776 tasks      | elapsed:    0.0s\n",
      "[Parallel(n_jobs=12)]: Done 1000 out of 1000 | elapsed:    0.0s finished\n",
      "[Parallel(n_jobs=-1)]: Using backend ThreadingBackend with 12 concurrent workers.\n",
      "[Parallel(n_jobs=-1)]: Done  26 tasks      | elapsed:    0.0s\n",
      "[Parallel(n_jobs=-1)]: Done 176 tasks      | elapsed:    0.0s\n",
      "[Parallel(n_jobs=-1)]: Done 426 tasks      | elapsed:    0.2s\n",
      "[Parallel(n_jobs=-1)]: Done 776 tasks      | elapsed:    0.5s\n",
      "[Parallel(n_jobs=-1)]: Done 1000 out of 1000 | elapsed:    0.6s finished\n",
      "[Parallel(n_jobs=12)]: Using backend ThreadingBackend with 12 concurrent workers.\n",
      "[Parallel(n_jobs=12)]: Done  26 tasks      | elapsed:    0.0s\n",
      "[Parallel(n_jobs=12)]: Done 176 tasks      | elapsed:    0.0s\n",
      "[Parallel(n_jobs=12)]: Done 426 tasks      | elapsed:    0.0s\n",
      "[Parallel(n_jobs=12)]: Done 776 tasks      | elapsed:    0.0s\n",
      "[Parallel(n_jobs=12)]: Done 1000 out of 1000 | elapsed:    0.0s finished\n",
      "[Parallel(n_jobs=12)]: Using backend ThreadingBackend with 12 concurrent workers.\n",
      "[Parallel(n_jobs=12)]: Done  26 tasks      | elapsed:    0.0s\n",
      "[Parallel(n_jobs=12)]: Done 176 tasks      | elapsed:    0.0s\n",
      "[Parallel(n_jobs=12)]: Done 426 tasks      | elapsed:    0.0s\n",
      "[Parallel(n_jobs=12)]: Done 776 tasks      | elapsed:    0.0s\n",
      "[Parallel(n_jobs=12)]: Done 1000 out of 1000 | elapsed:    0.0s finished\n",
      "[Parallel(n_jobs=12)]: Using backend ThreadingBackend with 12 concurrent workers.\n",
      "[Parallel(n_jobs=12)]: Done  26 tasks      | elapsed:    0.0s\n",
      "[Parallel(n_jobs=12)]: Done 176 tasks      | elapsed:    0.0s\n",
      "[Parallel(n_jobs=12)]: Done 426 tasks      | elapsed:    0.0s\n",
      "[Parallel(n_jobs=12)]: Done 776 tasks      | elapsed:    0.0s\n",
      "[Parallel(n_jobs=12)]: Done 1000 out of 1000 | elapsed:    0.0s finished\n",
      "[Parallel(n_jobs=-1)]: Using backend ThreadingBackend with 12 concurrent workers.\n",
      "[Parallel(n_jobs=-1)]: Done  26 tasks      | elapsed:    0.0s\n",
      "[Parallel(n_jobs=-1)]: Done 176 tasks      | elapsed:    0.0s\n",
      "[Parallel(n_jobs=-1)]: Done 426 tasks      | elapsed:    0.2s\n",
      "[Parallel(n_jobs=-1)]: Done 776 tasks      | elapsed:    0.5s\n",
      "[Parallel(n_jobs=-1)]: Done 1000 out of 1000 | elapsed:    0.6s finished\n",
      "[Parallel(n_jobs=12)]: Using backend ThreadingBackend with 12 concurrent workers.\n",
      "[Parallel(n_jobs=12)]: Done  26 tasks      | elapsed:    0.0s\n",
      "[Parallel(n_jobs=12)]: Done 176 tasks      | elapsed:    0.0s\n",
      "[Parallel(n_jobs=12)]: Done 426 tasks      | elapsed:    0.0s\n",
      "[Parallel(n_jobs=12)]: Done 776 tasks      | elapsed:    0.0s\n",
      "[Parallel(n_jobs=12)]: Done 1000 out of 1000 | elapsed:    0.0s finished\n",
      "[Parallel(n_jobs=12)]: Using backend ThreadingBackend with 12 concurrent workers.\n",
      "[Parallel(n_jobs=12)]: Done  26 tasks      | elapsed:    0.0s\n",
      "[Parallel(n_jobs=12)]: Done 176 tasks      | elapsed:    0.0s\n",
      "[Parallel(n_jobs=12)]: Done 426 tasks      | elapsed:    0.0s\n",
      "[Parallel(n_jobs=12)]: Done 776 tasks      | elapsed:    0.0s\n",
      "[Parallel(n_jobs=12)]: Done 1000 out of 1000 | elapsed:    0.0s finished\n",
      "[Parallel(n_jobs=12)]: Using backend ThreadingBackend with 12 concurrent workers.\n",
      "[Parallel(n_jobs=12)]: Done  26 tasks      | elapsed:    0.0s\n",
      "[Parallel(n_jobs=12)]: Done 176 tasks      | elapsed:    0.0s\n",
      "[Parallel(n_jobs=12)]: Done 426 tasks      | elapsed:    0.0s\n",
      "[Parallel(n_jobs=12)]: Done 776 tasks      | elapsed:    0.0s\n",
      "[Parallel(n_jobs=12)]: Done 1000 out of 1000 | elapsed:    0.0s finished\n"
     ]
    }
   ],
   "source": [
    "for fold, (train_index, test_index) in enumerate(kf.split(X, y), 1):\n",
    "    X_train = X[train_index]\n",
    "    y_train = y[train_index]\n",
    "    X_test = X[test_index]\n",
    "    y_test = y[test_index]\n",
    "    #sm = SMOTE()\n",
    "    #X_train_oversampled, y_train_oversampled = sm.fit_resample(X_train, y_train)\n",
    "    sm = SMOTETomek(random_state=12)\n",
    "    X_train_oversampled, y_train_oversampled = sm.fit_resample(X_train, y_train)\n",
    "    model = RandomForestClassifier(n_estimators=1000,\n",
    "                                   criterion = 'entropy',\n",
    "                                   min_samples_leaf= 1,\n",
    "                                   min_samples_split= 2,\n",
    "                                   random_state=0, \n",
    "                                   max_features= 'sqrt',\n",
    "                                   n_jobs=-1, verbose = 1)  # Choose a model here\n",
    "    model.fit(X_train_oversampled, y_train_oversampled )  \n",
    "    y_pred = model.predict(X_test)\n",
    "    #    print(f'For fold {fold}:')\n",
    "#    print(f'Accuracy: {model.score(X_test, y_test)}')\n",
    "#    print(f'AUC: {roc_auc_score(y_test, model.predict_proba(X_test)[:,1])}')\n",
    "    Scores1.append(model.score(X_test, y_test))\n",
    "    Scores2.append(roc_auc_score(y_test, model.predict_proba(X_test)[:,1]))"
   ]
  },
  {
   "cell_type": "code",
   "execution_count": 35,
   "metadata": {},
   "outputs": [
    {
     "name": "stdout",
     "output_type": "stream",
     "text": [
      "Mean Accuracy with CV: 0.737\n",
      "Standard Deviation accuracy: 0.064\n"
     ]
    }
   ],
   "source": [
    "import statistics\n",
    "print('Mean Accuracy with CV: %.3f' % mean(Scores1))\n",
    "print('Standard Deviation accuracy: %.3f' % statistics.stdev(Scores1))"
   ]
  },
  {
   "cell_type": "code",
   "execution_count": 36,
   "metadata": {},
   "outputs": [
    {
     "name": "stdout",
     "output_type": "stream",
     "text": [
      "Mean AUC ROC with CV: 0.807\n",
      "Standard Deviation AUC ROC: 0.056\n"
     ]
    }
   ],
   "source": [
    "print('Mean AUC ROC with CV: %.3f' % mean(Scores2))\n",
    "print('Standard Deviation AUC ROC: %.3f' % statistics.stdev(Scores2))"
   ]
  },
  {
   "cell_type": "code",
   "execution_count": 37,
   "metadata": {},
   "outputs": [],
   "source": [
    "col = df.columns       \n",
    "drop_cols = ['status']\n",
    "features= df.drop(drop_cols,axis = 1 )\n",
    "feature_list = list(features.columns)"
   ]
  },
  {
   "cell_type": "code",
   "execution_count": 38,
   "metadata": {},
   "outputs": [],
   "source": [
    "X_train = pd.DataFrame(X_train, columns= feature_list)\n",
    "X_test = pd.DataFrame(X_test, columns= feature_list)"
   ]
  },
  {
   "cell_type": "code",
   "execution_count": 39,
   "metadata": {},
   "outputs": [],
   "source": [
    "import shap\n"
   ]
  },
  {
   "cell_type": "code",
   "execution_count": 40,
   "metadata": {},
   "outputs": [],
   "source": [
    "explainer = shap.TreeExplainer(model, X_train)\n",
    "shap_values = explainer.shap_values(X_test)"
   ]
  },
  {
   "cell_type": "code",
   "execution_count": 41,
   "metadata": {},
   "outputs": [
    {
     "data": {
      "image/png": "[encoded data removed]",
      "text/plain": [
       "<Figure size 576x972 with 2 Axes>"
      ]
     },
     "metadata": {
      "needs_background": "light"
     },
     "output_type": "display_data"
    }
   ],
   "source": [
    "shap.summary_plot(shap_values[1], X_test, max_display=30)\n",
    "# 0 metformina\n",
    "# 1 lina + metformina "
   ]
  },
  {
   "cell_type": "code",
   "execution_count": 52,
   "metadata": {},
   "outputs": [
    {
     "data": {
      "image/png": "[encoded data removed]",
      "text/plain": [
       "<Figure size 576x1980 with 2 Axes>"
      ]
     },
     "metadata": {
      "needs_background": "light"
     },
     "output_type": "display_data"
    }
   ],
   "source": [
    "fig= shap.summary_plot(shap_values[1], X_test, max_display=65, show=False)\n",
    "plt.savefig(\"(0)grupoBasal_vs_(1)Metformina_6meses.png\", format=\"png\", dpi=300, bbox_inches='tight')\n",
    "plt.show()"
   ]
  },
  {
   "cell_type": "code",
   "execution_count": 53,
   "metadata": {},
   "outputs": [],
   "source": [
    "vals= np.abs(shap_values).mean(0)\n",
    "feature_importance = pd.DataFrame(list(zip(features.columns, sum(vals))), columns=['col_name','feature_importance_vals'])\n",
    "feature_importance.sort_values(by=['feature_importance_vals'], ascending=False,inplace=True)\n",
    "feature_importance.head(65)\n",
    "list_1 = feature_importance.head(65)\n",
    "list_1.to_csv('List_feature_importance_(0)grupoBasal_vs_(1)Metformina_6meses.csv')"
   ]
  },
  {
   "cell_type": "code",
   "execution_count": null,
   "metadata": {},
   "outputs": [],
   "source": []
  },
  {
   "cell_type": "code",
   "execution_count": 43,
   "metadata": {},
   "outputs": [
    {
     "name": "stdout",
     "output_type": "stream",
     "text": [
      "Variable: Subdoligranulum      Importance: 0.04\n",
      "Variable: Chloroplast          Importance: 0.03\n",
      "Variable: Blautia              Importance: 0.02\n",
      "Variable: Fusicatenibacter     Importance: 0.02\n",
      "Variable: DTU089               Importance: 0.02\n",
      "Variable: Family XIII AD3011 group Importance: 0.02\n",
      "Variable: Escherichia-Shigella Importance: 0.01\n",
      "Variable: Collinsella          Importance: 0.01\n",
      "Variable: Agathobacter         Importance: 0.01\n",
      "Variable: Phascolarctobacterium Importance: 0.01\n",
      "Variable: Prevotella 9         Importance: 0.01\n",
      "Variable: Faecalibacterium     Importance: 0.01\n",
      "Variable: Dorea                Importance: 0.01\n",
      "Variable: Bifidobacterium      Importance: 0.01\n",
      "Variable: [Eubacterium] coprostanoligenes group Importance: 0.01\n",
      "Variable: Streptococcus        Importance: 0.01\n",
      "Variable: Ruminococcaceae UCG-002 Importance: 0.01\n",
      "Variable: [Eubacterium] hallii group Importance: 0.01\n",
      "Variable: Ruminococcus 1       Importance: 0.01\n",
      "Variable: Veillonella          Importance: 0.01\n",
      "Variable: Anaerostipes         Importance: 0.01\n",
      "Variable: [Ruminococcus] torques group Importance: 0.01\n",
      "Variable: Haemophilus          Importance: 0.01\n",
      "Variable: Roseburia            Importance: 0.01\n",
      "Variable: Lachnospiraceae      Importance: 0.01\n",
      "Variable: Erysipelotrichaceae UCG-003 Importance: 0.01\n",
      "Variable: Alistipes            Importance: 0.01\n",
      "Variable: Ruminococcaceae UCG-013 Importance: 0.01\n",
      "Variable: Parabacteroides      Importance: 0.01\n",
      "Variable: Prevotella 7         Importance: 0.01\n",
      "Variable: Senegalimassilia     Importance: 0.01\n",
      "Variable: Romboutsia           Importance: 0.01\n",
      "Variable: Slackia              Importance: 0.01\n",
      "Variable: Lactobacillus        Importance: 0.01\n",
      "Variable: [Ruminococcus] gauvreauii group Importance: 0.01\n",
      "Variable: Ruminococcaceae UCG-014 Importance: 0.01\n",
      "Variable: Ruminococcaceae UCG-005 Importance: 0.01\n",
      "Variable: Catenibacterium      Importance: 0.01\n",
      "Variable: Ruminiclostridium 5  Importance: 0.01\n",
      "Variable: Lachnoclostridium    Importance: 0.01\n",
      "Variable: [Eubacterium] xylanophilum group Importance: 0.01\n",
      "Variable: Weissella            Importance: 0.01\n",
      "Variable: Ruminococcaceae_UBA1819 Importance: 0.01\n",
      "Variable: Gordonibacter        Importance: 0.01\n",
      "Variable: Clostridiales_Family XIII Importance: 0.01\n",
      "Variable: Eggerthellaceae_uncultured Importance: 0.01\n",
      "Variable: Actinomyces          Importance: 0.01\n",
      "Variable: Howardella           Importance: 0.01\n",
      "Variable: Lachnospiraceae FCS020 group Importance: 0.01\n",
      "Variable: Lachnospiraceae UCG-010 Importance: 0.01\n",
      "Variable: Moryella             Importance: 0.01\n",
      "Variable: Peptococcaceae_uncultured Importance: 0.01\n",
      "Variable: Mitochondria         Importance: 0.01\n",
      "Variable: Family XIII UCG-001  Importance: 0.01\n",
      "Variable: Granulicatella       Importance: 0.01\n",
      "Variable: Porphyromonas        Importance: 0.01\n",
      "Variable: Butyricimonas        Importance: 0.01\n",
      "Variable: metagenome.1         Importance: 0.01\n",
      "Variable: Peptoniphilus        Importance: 0.01\n",
      "Variable: Angelakisella        Importance: 0.01\n",
      "Variable: Prevotella           Importance: 0.01\n",
      "Variable: uncultured bacterium adhufec202 Importance: 0.01\n",
      "Variable: Holdemania           Importance: 0.01\n",
      "Variable: Catabacter           Importance: 0.01\n",
      "Variable: Christensenellaceae_uncultured Importance: 0.01\n",
      "Variable: Unassigned           Importance: 0.01\n",
      "Variable: Bacteria             Importance: 0.01\n",
      "Variable: Bacteroides          Importance: 0.0\n",
      "Variable: Akkermansia          Importance: 0.0\n",
      "Variable: Methanobrevibacter   Importance: 0.0\n",
      "Variable: Christensenellaceae R-7 group Importance: 0.0\n",
      "Variable: Ruminococcus 2       Importance: 0.0\n",
      "Variable: Enterobacteriaceae   Importance: 0.0\n",
      "Variable: Dialister            Importance: 0.0\n",
      "Variable: Megasphaera          Importance: 0.0\n",
      "Variable: Coprococcus 3        Importance: 0.0\n",
      "Variable: Megamonas            Importance: 0.0\n",
      "Variable: Ruminococcaceae NK4A214 group Importance: 0.0\n",
      "Variable: Clostridium sensu stricto 1 Importance: 0.0\n",
      "Variable: Clostridiales        Importance: 0.0\n",
      "Variable: Enterorhabdus        Importance: 0.0\n",
      "Variable: Parasutterella       Importance: 0.0\n",
      "Variable: Enterococcus         Importance: 0.0\n",
      "Variable: [Eubacterium] ruminantium group Importance: 0.0\n",
      "Variable: Coprococcus 2        Importance: 0.0\n",
      "Variable: CAG-56               Importance: 0.0\n",
      "Variable: Paraprevotella       Importance: 0.0\n",
      "Variable: Coprococcus 1        Importance: 0.0\n",
      "Variable: [Eubacterium] eligens group Importance: 0.0\n",
      "Variable: Lachnospiraceae NK4A136 group Importance: 0.0\n",
      "Variable: Ruminococcaceae UCG-003 Importance: 0.0\n",
      "Variable: Ruminiclostridium 6  Importance: 0.0\n",
      "Variable: Holdemanella         Importance: 0.0\n",
      "Variable: Ruminococcaceae      Importance: 0.0\n",
      "Variable: Butyricicoccus       Importance: 0.0\n",
      "Variable: Ruminococcaceae_uncultured Importance: 0.0\n",
      "Variable: Odoribacter          Importance: 0.0\n",
      "Variable: [Ruminococcus] gnavus group Importance: 0.0\n",
      "Variable: Intestinibacter      Importance: 0.0\n",
      "Variable: Acidaminococcus      Importance: 0.0\n",
      "Variable: Lachnospiraceae ND3007 group Importance: 0.0\n",
      "Variable: Lachnospira          Importance: 0.0\n",
      "Variable: Muribaculaceae_uncultured Porphyromonadaceae bacterium Importance: 0.0\n",
      "Variable: [Eubacterium] ventriosum group Importance: 0.0\n",
      "Variable: Turicibacter         Importance: 0.0\n",
      "Variable: Alloprevotella       Importance: 0.0\n",
      "Variable: uncultured bacterium Importance: 0.0\n",
      "Variable: metagenome           Importance: 0.0\n",
      "Variable: Bilophila            Importance: 0.0\n",
      "Variable: Saccharimonadaceae_TM7 phylum sp. oral clone DR034 Importance: 0.0\n",
      "Variable: Lachnospiraceae_uncultured Importance: 0.0\n",
      "Variable: Adlercreutzia        Importance: 0.0\n",
      "Variable: Desulfovibrio        Importance: 0.0\n",
      "Variable: Barnesiella          Importance: 0.0\n",
      "Variable: Gastranaerophilales_uncultured bacterium Importance: 0.0\n",
      "Variable: Methanosphaera       Importance: 0.0\n",
      "Variable: Flavonifractor       Importance: 0.0\n",
      "Variable: Gastranaerophilales  Importance: 0.0\n",
      "Variable: Terrisporobacter     Importance: 0.0\n",
      "Variable: Mollicutes RF39      Importance: 0.0\n",
      "Variable: Lachnospiraceae UCG-001 Importance: 0.0\n",
      "Variable: Marvinbryantia       Importance: 0.0\n",
      "Variable: Sarcina              Importance: 0.0\n",
      "Variable: Tyzzerella 3         Importance: 0.0\n",
      "Variable: Lachnospiraceae NK3A20 group Importance: 0.0\n",
      "Variable: Mollicutes RF39_gut metagenome Importance: 0.0\n",
      "Variable: Ruminococcaceae UCG-010 Importance: 0.0\n",
      "Variable: Oscillibacter        Importance: 0.0\n",
      "Variable: Negativibacillus     Importance: 0.0\n",
      "Variable: Mollicutes RF39_metagenome Importance: 0.0\n",
      "Variable: Butyrivibrio         Importance: 0.0\n",
      "Variable: Sutterella           Importance: 0.0\n",
      "Variable: Ruminococcaceae UCG-004 Importance: 0.0\n",
      "Variable: Lactococcus          Importance: 0.0\n",
      "Variable: Prevotella 2         Importance: 0.0\n",
      "Variable: Eggerthella          Importance: 0.0\n",
      "Variable: Coriobacteriales Incertae Sedis_uncultured Importance: 0.0\n",
      "Variable: Tyzzerella 4         Importance: 0.0\n",
      "Variable: Allisonella          Importance: 0.0\n",
      "Variable: Prevotellaceae NK3B31 group Importance: 0.0\n",
      "Variable: Christensenellaceae  Importance: 0.0\n",
      "Variable: Candidatus Melainabacteria bacterium MEL.A1 Importance: 0.0\n",
      "Variable: Bacteroidales_uncultured bacterium Importance: 0.0\n",
      "Variable: Pasteurellaceae      Importance: 0.0\n",
      "Variable: Clostridium sp. CAG:306 Importance: 0.0\n",
      "Variable: Atopobiaceae_Libanicoccus Importance: 0.0\n",
      "Variable: Ruminiclostridium 9  Importance: 0.0\n",
      "Variable: Tyzzerella           Importance: 0.0\n",
      "Variable: [Bacteroides] pectinophilus group Importance: 0.0\n",
      "Variable: Mogibacterium        Importance: 0.0\n",
      "Variable: Lachnospiraceae UCG-003 Importance: 0.0\n",
      "Variable: Mitsuokella          Importance: 0.0\n",
      "Variable: Gemella              Importance: 0.0\n",
      "Variable: Muribaculaceae       Importance: 0.0\n",
      "Variable: Atopobiaceae_uncultured Importance: 0.0\n",
      "Variable: Prevotellaceae_uncultured Importance: 0.0\n",
      "Variable: GCA-900066575        Importance: 0.0\n",
      "Variable: Ruminococcaceae_CAG-352 Importance: 0.0\n",
      "Variable: Lachnospiraceae NK4B4 group Importance: 0.0\n",
      "Variable: Erysipelatoclostridium Importance: 0.0\n",
      "Variable: Saccharimonadaceae   Importance: 0.0\n",
      "Variable: Faecalitalea         Importance: 0.0\n",
      "Variable: Lachnospiraceae UCG-004 Importance: 0.0\n",
      "Variable: Solobacterium        Importance: 0.0\n",
      "Variable: Eisenbergiella       Importance: 0.0\n",
      "Variable: Azospirillum sp. 47_25 Importance: 0.0\n",
      "Variable: Rikenellaceae RC9 gut group Importance: 0.0\n",
      "Variable: Lachnospiraceae UCG-008 Importance: 0.0\n",
      "Variable: Muribaculaceae_uncultured bacterium Importance: 0.0\n",
      "Variable: Mollicutes RF39_uncultured organism Importance: 0.0\n",
      "Variable: Rhodospirillales_uncultured Importance: 0.0\n",
      "Variable: Burkholderiaceae     Importance: 0.0\n",
      "Variable: Coprobacter          Importance: 0.0\n",
      "Variable: Ezakiella            Importance: 0.0\n",
      "Variable: Fournierella         Importance: 0.0\n",
      "Variable: Peptococcus          Importance: 0.0\n",
      "Variable: Coriobacteriales     Importance: 0.0\n",
      "Variable: Ruminococcaceae UCG-008 Importance: 0.0\n",
      "Variable: Mollicutes RF39_uncultured Lachnospiraceae bacterium Importance: 0.0\n",
      "Variable: Erysipelotrichaceae_[Clostridium] innocuum group Importance: 0.0\n",
      "Variable: Acetitomaculum       Importance: 0.0\n",
      "Variable: TM7 phylum sp. oral clone FR058 Importance: 0.0\n",
      "Variable: Muribaculaceae_CAG-873 Importance: 0.0\n",
      "Variable: Rothia               Importance: 0.0\n",
      "Variable: Eggerthellaceae_CHKCI002 Importance: 0.0\n",
      "Variable: Muribaculaceae_uncultured organism Importance: 0.0\n",
      "Variable: Fusobacterium        Importance: 0.0\n",
      "Variable: Hungatella           Importance: 0.0\n",
      "Variable: Prevotella 6         Importance: 0.0\n",
      "Variable: Abiotrophia          Importance: 0.0\n",
      "Variable: Rhodospirillales_gut metagenome Importance: 0.0\n",
      "Variable: Family XIII_[Eubacterium] brachy group Importance: 0.0\n",
      "Variable: Intestinimonas       Importance: 0.0\n",
      "Variable: Atopobium            Importance: 0.0\n",
      "Variable: Elusimicrobium       Importance: 0.0\n",
      "Variable: uncultured Thermoanaerobacterales bacterium Importance: 0.0\n",
      "Variable: Prevotellaceae UCG-003 Importance: 0.0\n",
      "Variable: Anaerotruncus        Importance: 0.0\n",
      "Variable: Actinobacillus       Importance: 0.0\n",
      "Variable: uncultured Erysipelotrichaceae bacterium Importance: 0.0\n",
      "Variable: Ruminococcaceae UCG-009 Importance: 0.0\n",
      "Variable: Erysipelotrichaceae UCG-006 Importance: 0.0\n",
      "Variable: Eubacterium          Importance: 0.0\n",
      "Variable: [Eubacterium] fissicatena group Importance: 0.0\n",
      "Variable: Selenomonas          Importance: 0.0\n",
      "Variable: Sellimonas           Importance: 0.0\n",
      "Variable: Veillonellaceae_uncultured Importance: 0.0\n",
      "Variable: Coriobacteriales_uncultured bacterium Importance: 0.0\n",
      "Variable: Cloacibacillus       Importance: 0.0\n",
      "Variable: Succinivibrio        Importance: 0.0\n",
      "Variable: Leuconostoc          Importance: 0.0\n",
      "Variable: Anaeroplasma         Importance: 0.0\n",
      "Variable: Flavobacteriaceae_uncultured Importance: 0.0\n",
      "Variable: Defluviitaleaceae UCG-011 Importance: 0.0\n",
      "Variable: Barnesiellaceae_uncultured Importance: 0.0\n",
      "Variable: Vagococcus           Importance: 0.0\n",
      "Variable: Candidatus Saccharibacteria bacterium UB2523 Importance: 0.0\n",
      "Variable: Coprobacillus        Importance: 0.0\n",
      "Variable: Mollicutes RF39_uncultured prokaryote Importance: 0.0\n",
      "Variable: Finegoldia           Importance: 0.0\n",
      "Variable: Anaerococcus         Importance: 0.0\n",
      "Variable: Bacteroidales_uncultured Importance: 0.0\n",
      "Variable: Muribaculaceae_gut metagenome Importance: 0.0\n",
      "Variable: Desulfovibrionaceae_uncultured Importance: 0.0\n",
      "Variable: Pyramidobacter       Importance: 0.0\n",
      "Variable: Scardovia            Importance: 0.0\n",
      "Variable: unidentified rumen bacterium RF39 Importance: 0.0\n",
      "Variable: Enorma               Importance: 0.0\n",
      "Variable: Erysipelotrichaceae_uncultured Importance: 0.0\n",
      "Variable: Prevotellaceae UCG-004 Importance: 0.0\n",
      "Variable: Atopobiaceae         Importance: 0.0\n",
      "Variable: Leptotrichia         Importance: 0.0\n",
      "Variable: Murdochiella         Importance: 0.0\n",
      "Variable: Raoultibacter        Importance: 0.0\n",
      "Variable: GCA-900066225        Importance: 0.0\n",
      "Variable: Hafnia-Obesumbacterium Importance: 0.0\n",
      "Variable: uncultured bacterium oral clone BE109 Importance: 0.0\n",
      "Variable: Bifidobacteriaceae_Alloscardovia Importance: 0.0\n",
      "Variable: Fastidiosipila       Importance: 0.0\n",
      "Variable: Olsenella            Importance: 0.0\n",
      "Variable: Clostridia           Importance: 0.0\n",
      "Variable: Anaerofilum          Importance: 0.0\n",
      "Variable: Parvimonas           Importance: 0.0\n",
      "Variable: Dielma               Importance: 0.0\n",
      "Variable: Pseudomonas          Importance: 0.0\n",
      "Variable: Gardnerella          Importance: 0.0\n",
      "Variable: Ruminiclostridium    Importance: 0.0\n",
      "Variable: Prevotellaceae       Importance: 0.0\n",
      "Variable: Cetobacterium        Importance: 0.0\n",
      "Variable: Pseudoflavonifractor Importance: 0.0\n",
      "Variable: Prevotellaceae UCG-001 Importance: 0.0\n",
      "Variable: Anaerofustis         Importance: 0.0\n",
      "Variable: Clostridiales vadinBB60 group_gut metagenome Importance: 0.0\n",
      "Variable: Lachnospiraceae_UC5-1-2E3 Importance: 0.0\n",
      "Variable: Morganella           Importance: 0.0\n",
      "Variable: Mitochondria_uncultured bacterium Importance: 0.0\n",
      "Variable: TM7 phylum sp. canine oral taxon 308 Importance: 0.0\n",
      "Variable: Varibaculum          Importance: 0.0\n",
      "Variable: Phocea               Importance: 0.0\n",
      "Variable: Lachnospiraceae_GCA-900066755 Importance: 0.0\n",
      "Variable: [Eubacterium] nodatum group Importance: 0.0\n",
      "Variable: Corynebacterium      Importance: 0.0\n",
      "Variable: Pediococcus          Importance: 0.0\n",
      "Variable: Candidatus Soleaferrea Importance: 0.0\n",
      "Variable: Oribacterium         Importance: 0.0\n",
      "Variable: Clostridiales vadinBB60 group Importance: 0.0\n",
      "Variable: Caproiciproducens    Importance: 0.0\n",
      "Variable: Clostridiales vadinBB60 group_uncultured bacterium Importance: 0.0\n",
      "Variable: Parvibacter          Importance: 0.0\n",
      "Variable: Sanguibacteroides    Importance: 0.0\n",
      "Variable: Arcanobacterium      Importance: 0.0\n",
      "Variable: Saccharimonadaceae_uncultured bacterium oral clone BS003 Importance: 0.0\n",
      "Variable: Mollicutes RF39_uncultured Mollicutes bacterium Importance: 0.0\n",
      "Variable: Delftia              Importance: 0.0\n",
      "Variable: Treponema 2          Importance: 0.0\n",
      "Variable: Eggerthellaceae      Importance: 0.0\n",
      "Variable: Peptostreptococcaceae Importance: 0.0\n",
      "Variable: Erysipelotrichaceae  Importance: 0.0\n",
      "Variable: Aggregatibacter      Importance: 0.0\n",
      "Variable: Rikenella            Importance: 0.0\n",
      "Variable: Providencia          Importance: 0.0\n",
      "Variable: Gallicola            Importance: 0.0\n",
      "Variable: S5-A14a              Importance: 0.0\n",
      "Variable: Actinomycetaceae_F0332 Importance: 0.0\n",
      "Variable: Neisseria            Importance: 0.0\n",
      "Variable: Rhizobiaceae         Importance: 0.0\n",
      "Variable: Anaerobiospirillum   Importance: 0.0\n",
      "Variable: Veillonellaceae      Importance: 0.0\n",
      "Variable: Lactonifactor        Importance: 0.0\n",
      "Variable: Peptostreptococcus   Importance: 0.0\n",
      "Variable: Victivallis          Importance: 0.0\n",
      "Variable: Ruminiclostridium 1  Importance: 0.0\n",
      "Variable: TM7 bacterium human oral taxon HOT-869 Importance: 0.0\n",
      "Variable: Arcobacter           Importance: 0.0\n",
      "Variable: Clostridiales vadinBB60 group_uncultured organism Importance: 0.0\n",
      "Variable: Corynebacterium 1    Importance: 0.0\n",
      "Variable: Hydrogenoanaerobacterium Importance: 0.0\n",
      "Variable: Anoxybacillus        Importance: 0.0\n",
      "Variable: Pseudoxanthomonas    Importance: 0.0\n",
      "Variable: Muribaculaceae_uncultured rumen bacterium Importance: 0.0\n",
      "Variable: Asteroleplasma       Importance: 0.0\n",
      "Variable: Puniceicoccaceae_uncultured Importance: 0.0\n",
      "Variable: Selenomonas 3        Importance: 0.0\n",
      "Variable: Saccharimonadales    Importance: 0.0\n",
      "Variable: Clostridioides       Importance: 0.0\n",
      "Variable: Staphylococcus       Importance: 0.0\n",
      "Variable: Bosea                Importance: 0.0\n",
      "Variable: Izimaplasmatales_gut metagenome Importance: 0.0\n",
      "Variable: Hymenobacter         Importance: 0.0\n",
      "Variable: Shuttleworthia       Importance: 0.0\n",
      "Variable: Ruminococcaceae UCG-007 Importance: 0.0\n",
      "Variable: Enterobacteriaceae_Proteus Importance: 0.0\n",
      "Variable: Chryseobacterium     Importance: 0.0\n",
      "Variable: Paeniclostridium     Importance: 0.0\n",
      "Variable: Oscillospira         Importance: 0.0\n",
      "Variable: Shinella             Importance: 0.0\n",
      "Variable: Denitrobacterium     Importance: 0.0\n",
      "Variable: Negativicoccus       Importance: 0.0\n",
      "Variable: Anaeroglobus         Importance: 0.0\n",
      "Variable: Candidatus Stoquefichus Importance: 0.0\n",
      "Variable: Sneathia             Importance: 0.0\n",
      "Variable: Izimaplasmatales_uncultured organism Importance: 0.0\n",
      "Variable: Puniceicoccaceae     Importance: 0.0\n",
      "Variable: Pantoea              Importance: 0.0\n",
      "Variable: Coriobacteriaceae UCG-003 Importance: 0.0\n",
      "Variable: Candidatus Saccharimonas Importance: 0.0\n",
      "Variable: Cryptobacterium      Importance: 0.0\n",
      "Variable: Mobiluncus           Importance: 0.0\n",
      "Variable: Allorhizobium-Neorhizobium-Pararhizobium-Rhizobium Importance: 0.0\n",
      "Variable: Saccharimonadaceae_uncultured bacterium Importance: 0.0\n",
      "Variable: Campylobacter        Importance: 0.0\n",
      "Variable: Erysipelotrichaceae UCG-004 Importance: 0.0\n",
      "Variable: Propionibacterium    Importance: 0.0\n",
      "Variable: Intrasporangiaceae   Importance: 0.0\n",
      "Variable: Stenotrophomonas     Importance: 0.0\n",
      "Variable: Bifidobacteriaceae   Importance: 0.0\n",
      "Variable: Acinetobacter        Importance: 0.0\n",
      "Variable: Cutibacterium        Importance: 0.0\n",
      "Variable: Aerococcus           Importance: 0.0\n",
      "Variable: Brevundimonas        Importance: 0.0\n",
      "Variable: Harryflintia         Importance: 0.0\n",
      "Variable: Bacteroidales bacterium 59 Importance: 0.0\n",
      "Variable: Lawsonella           Importance: 0.0\n",
      "Variable: Serratia             Importance: 0.0\n",
      "Variable: Pseudopropionibacterium Importance: 0.0\n",
      "Variable: Johnsonella          Importance: 0.0\n",
      "Variable: Micrococcaceae       Importance: 0.0\n",
      "Variable: Eggerthellaceae_DNF00809 Importance: 0.0\n",
      "Variable: [Eubacterium] saphenum group Importance: 0.0\n",
      "Variable: Kocuria              Importance: 0.0\n",
      "Variable: Clostridiales bacterium enrichment culture clone 06-1235251-67 Importance: 0.0\n",
      "Variable: Lachnoanaerobaculum  Importance: 0.0\n",
      "Variable: Family XI_W5053      Importance: 0.0\n",
      "Variable: uncultured Candidatus Saccharibacteria bacterium Importance: 0.0\n",
      "Variable: vadinBE97;__         Importance: 0.0\n",
      "Variable: Sphingopyxis         Importance: 0.0\n",
      "Variable: Phocaeicola          Importance: 0.0\n",
      "Variable: Faecalicoccus        Importance: 0.0\n",
      "Variable: Stomatobaculum       Importance: 0.0\n",
      "Variable: Sphingomonas         Importance: 0.0\n",
      "Variable: Massilia             Importance: 0.0\n",
      "Variable: Rhodospirillales_uncultured bacterium Importance: 0.0\n",
      "Variable: Bacteroidales        Importance: 0.0\n",
      "Variable: Ochrobactrum         Importance: 0.0\n",
      "Variable: Macrococcus          Importance: 0.0\n",
      "Variable: Mollicutes RF39_unidentified Importance: 0.0\n",
      "Variable: vadinBE97_uncultured rumen bacterium Importance: 0.0\n",
      "Variable: Geobacillus          Importance: 0.0\n",
      "Variable: Acholeplasmatales bacterium canine oral taxon 375 Importance: 0.0\n",
      "Variable: Paraeggerthella      Importance: 0.0\n",
      "Variable: Merdibacter          Importance: 0.0\n",
      "Variable: Fructobacillus       Importance: 0.0\n",
      "Variable: Alphaproteobacteria  Importance: 0.0\n",
      "Variable: P3OB-42_uncultured bacterium Importance: 0.0\n",
      "Variable: Leptotrichiaceae     Importance: 0.0\n",
      "Variable: Acetanaerobacterium  Importance: 0.0\n",
      "Variable: Bacillus             Importance: 0.0\n",
      "Variable: Sphingobacterium     Importance: 0.0\n",
      "Variable: Ensifer              Importance: 0.0\n",
      "Variable: Cardiobacterium      Importance: 0.0\n",
      "Variable: Lactobacillales      Importance: 0.0\n",
      "Variable: Fretibacterium       Importance: 0.0\n",
      "Variable: Firmicutes           Importance: 0.0\n",
      "Variable: Facklamia            Importance: 0.0\n",
      "Variable: Desulfobulbus        Importance: 0.0\n",
      "Variable: Thermoactinomycetaceae Importance: 0.0\n",
      "Variable: Rhodobacteraceae     Importance: 0.0\n",
      "Variable: Paracoccus           Importance: 0.0\n",
      "Variable: Vermiphilaceae       Importance: 0.0\n",
      "Variable: Porphyromonadaceae bacterium C941 Importance: 0.0\n",
      "Variable: Lautropia            Importance: 0.0\n",
      "Variable: Sphingobium          Importance: 0.0\n",
      "Variable: Propioniciclava      Importance: 0.0\n",
      "Variable: Microbacterium       Importance: 0.0\n",
      "Variable: Nitrososphaeraceae   Importance: 0.0\n",
      "Variable: Flexilinea           Importance: 0.0\n",
      "Variable: Sporobacter          Importance: 0.0\n",
      "Variable: Pygmaiobacter        Importance: 0.0\n",
      "Variable: Selenomonas 4        Importance: 0.0\n",
      "Variable: Acidaminococcaceae   Importance: 0.0\n",
      "Variable: Neisseriaceae        Importance: 0.0\n",
      "Variable: Victivallaceae_uncultured organism Importance: 0.0\n",
      "Variable: Exiguobacterium      Importance: 0.0\n",
      "Variable: Glutamicibacter      Importance: 0.0\n",
      "Variable: Family XIII_uncultured Importance: 0.0\n",
      "Variable: Robinsoniella        Importance: 0.0\n",
      "Variable: Virgisporangium      Importance: 0.0\n",
      "Variable: Aerococcaceae        Importance: 0.0\n",
      "Variable: Acetobacter          Importance: 0.0\n",
      "Variable: Microbacteriaceae    Importance: 0.0\n",
      "Variable: Clostridium sensu stricto 2 Importance: 0.0\n",
      "Variable: Proteobacteria       Importance: 0.0\n",
      "Variable: Actinomycetaceae_uncultured Importance: 0.0\n",
      "Variable: Pirellulaceae_Pir4 lineage Importance: 0.0\n",
      "Variable: Flavobacterium       Importance: 0.0\n",
      "Variable: Tropheryma           Importance: 0.0\n",
      "Variable: Bulleidia            Importance: 0.0\n",
      "Variable: Methanomethylophilaceae_uncultured Importance: 0.0\n",
      "Variable: Cellulosimicrobium   Importance: 0.0\n",
      "Variable: Mailhella            Importance: 0.0\n",
      "Variable: Propionibacteriaceae_uncultured Importance: 0.0\n",
      "Variable: Succiniclasticum     Importance: 0.0\n",
      "Variable: Enhydrobacter        Importance: 0.0\n",
      "Variable: Marmoricola          Importance: 0.0\n",
      "Variable: Rhodococcus          Importance: 0.0\n",
      "Variable: JG30-KF-CM45_uncultured bacterium Importance: 0.0\n",
      "Variable: Porphyrobacter       Importance: 0.0\n",
      "Variable: Dermabacter          Importance: 0.0\n",
      "Variable: Pseudoclavibacter    Importance: 0.0\n",
      "Variable: Cloacibacterium      Importance: 0.0\n",
      "Variable: Nanoarchaeaeota      Importance: 0.0\n",
      "Variable: Archaea              Importance: 0.0\n",
      "Variable: Psychrobacter        Importance: 0.0\n",
      "Variable: Streptomyces         Importance: 0.0\n",
      "Variable: Gammaproteobacteria  Importance: 0.0\n",
      "Variable: Candidatus Methanogranum Importance: 0.0\n",
      "Variable: Jonquetella          Importance: 0.0\n",
      "Variable: Eikenella            Importance: 0.0\n",
      "Variable: Luteimonas           Importance: 0.0\n",
      "Variable: Pseudoramibacter     Importance: 0.0\n",
      "Variable: Deinococcus          Importance: 0.0\n",
      "Variable: Marinifilaceae       Importance: 0.0\n",
      "Variable: Actinobacteria       Importance: 0.0\n",
      "Variable: Selenomonadales      Importance: 0.0\n",
      "Variable: Victivallaceae_uncultured bacterium Importance: 0.0\n",
      "Variable: Vermiphilaceae_uncultured bacterium Importance: 0.0\n",
      "Variable: Bacteroidia          Importance: 0.0\n",
      "Variable: Methylobacterium     Importance: 0.0\n",
      "Variable: Propionimicrobium    Importance: 0.0\n"
     ]
    },
    {
     "data": {
      "text/plain": [
       "[None,\n",
       " None,\n",
       " None,\n",
       " None,\n",
       " None,\n",
       " None,\n",
       " None,\n",
       " None,\n",
       " None,\n",
       " None,\n",
       " None,\n",
       " None,\n",
       " None,\n",
       " None,\n",
       " None,\n",
       " None,\n",
       " None,\n",
       " None,\n",
       " None,\n",
       " None,\n",
       " None,\n",
       " None,\n",
       " None,\n",
       " None,\n",
       " None,\n",
       " None,\n",
       " None,\n",
       " None,\n",
       " None,\n",
       " None,\n",
       " None,\n",
       " None,\n",
       " None,\n",
       " None,\n",
       " None,\n",
       " None,\n",
       " None,\n",
       " None,\n",
       " None,\n",
       " None,\n",
       " None,\n",
       " None,\n",
       " None,\n",
       " None,\n",
       " None,\n",
       " None,\n",
       " None,\n",
       " None,\n",
       " None,\n",
       " None,\n",
       " None,\n",
       " None,\n",
       " None,\n",
       " None,\n",
       " None,\n",
       " None,\n",
       " None,\n",
       " None,\n",
       " None,\n",
       " None,\n",
       " None,\n",
       " None,\n",
       " None,\n",
       " None,\n",
       " None,\n",
       " None,\n",
       " None,\n",
       " None,\n",
       " None,\n",
       " None,\n",
       " None,\n",
       " None,\n",
       " None,\n",
       " None,\n",
       " None,\n",
       " None,\n",
       " None,\n",
       " None,\n",
       " None,\n",
       " None,\n",
       " None,\n",
       " None,\n",
       " None,\n",
       " None,\n",
       " None,\n",
       " None,\n",
       " None,\n",
       " None,\n",
       " None,\n",
       " None,\n",
       " None,\n",
       " None,\n",
       " None,\n",
       " None,\n",
       " None,\n",
       " None,\n",
       " None,\n",
       " None,\n",
       " None,\n",
       " None,\n",
       " None,\n",
       " None,\n",
       " None,\n",
       " None,\n",
       " None,\n",
       " None,\n",
       " None,\n",
       " None,\n",
       " None,\n",
       " None,\n",
       " None,\n",
       " None,\n",
       " None,\n",
       " None,\n",
       " None,\n",
       " None,\n",
       " None,\n",
       " None,\n",
       " None,\n",
       " None,\n",
       " None,\n",
       " None,\n",
       " None,\n",
       " None,\n",
       " None,\n",
       " None,\n",
       " None,\n",
       " None,\n",
       " None,\n",
       " None,\n",
       " None,\n",
       " None,\n",
       " None,\n",
       " None,\n",
       " None,\n",
       " None,\n",
       " None,\n",
       " None,\n",
       " None,\n",
       " None,\n",
       " None,\n",
       " None,\n",
       " None,\n",
       " None,\n",
       " None,\n",
       " None,\n",
       " None,\n",
       " None,\n",
       " None,\n",
       " None,\n",
       " None,\n",
       " None,\n",
       " None,\n",
       " None,\n",
       " None,\n",
       " None,\n",
       " None,\n",
       " None,\n",
       " None,\n",
       " None,\n",
       " None,\n",
       " None,\n",
       " None,\n",
       " None,\n",
       " None,\n",
       " None,\n",
       " None,\n",
       " None,\n",
       " None,\n",
       " None,\n",
       " None,\n",
       " None,\n",
       " None,\n",
       " None,\n",
       " None,\n",
       " None,\n",
       " None,\n",
       " None,\n",
       " None,\n",
       " None,\n",
       " None,\n",
       " None,\n",
       " None,\n",
       " None,\n",
       " None,\n",
       " None,\n",
       " None,\n",
       " None,\n",
       " None,\n",
       " None,\n",
       " None,\n",
       " None,\n",
       " None,\n",
       " None,\n",
       " None,\n",
       " None,\n",
       " None,\n",
       " None,\n",
       " None,\n",
       " None,\n",
       " None,\n",
       " None,\n",
       " None,\n",
       " None,\n",
       " None,\n",
       " None,\n",
       " None,\n",
       " None,\n",
       " None,\n",
       " None,\n",
       " None,\n",
       " None,\n",
       " None,\n",
       " None,\n",
       " None,\n",
       " None,\n",
       " None,\n",
       " None,\n",
       " None,\n",
       " None,\n",
       " None,\n",
       " None,\n",
       " None,\n",
       " None,\n",
       " None,\n",
       " None,\n",
       " None,\n",
       " None,\n",
       " None,\n",
       " None,\n",
       " None,\n",
       " None,\n",
       " None,\n",
       " None,\n",
       " None,\n",
       " None,\n",
       " None,\n",
       " None,\n",
       " None,\n",
       " None,\n",
       " None,\n",
       " None,\n",
       " None,\n",
       " None,\n",
       " None,\n",
       " None,\n",
       " None,\n",
       " None,\n",
       " None,\n",
       " None,\n",
       " None,\n",
       " None,\n",
       " None,\n",
       " None,\n",
       " None,\n",
       " None,\n",
       " None,\n",
       " None,\n",
       " None,\n",
       " None,\n",
       " None,\n",
       " None,\n",
       " None,\n",
       " None,\n",
       " None,\n",
       " None,\n",
       " None,\n",
       " None,\n",
       " None,\n",
       " None,\n",
       " None,\n",
       " None,\n",
       " None,\n",
       " None,\n",
       " None,\n",
       " None,\n",
       " None,\n",
       " None,\n",
       " None,\n",
       " None,\n",
       " None,\n",
       " None,\n",
       " None,\n",
       " None,\n",
       " None,\n",
       " None,\n",
       " None,\n",
       " None,\n",
       " None,\n",
       " None,\n",
       " None,\n",
       " None,\n",
       " None,\n",
       " None,\n",
       " None,\n",
       " None,\n",
       " None,\n",
       " None,\n",
       " None,\n",
       " None,\n",
       " None,\n",
       " None,\n",
       " None,\n",
       " None,\n",
       " None,\n",
       " None,\n",
       " None,\n",
       " None,\n",
       " None,\n",
       " None,\n",
       " None,\n",
       " None,\n",
       " None,\n",
       " None,\n",
       " None,\n",
       " None,\n",
       " None,\n",
       " None,\n",
       " None,\n",
       " None,\n",
       " None,\n",
       " None,\n",
       " None,\n",
       " None,\n",
       " None,\n",
       " None,\n",
       " None,\n",
       " None,\n",
       " None,\n",
       " None,\n",
       " None,\n",
       " None,\n",
       " None,\n",
       " None,\n",
       " None,\n",
       " None,\n",
       " None,\n",
       " None,\n",
       " None,\n",
       " None,\n",
       " None,\n",
       " None,\n",
       " None,\n",
       " None,\n",
       " None,\n",
       " None,\n",
       " None,\n",
       " None,\n",
       " None,\n",
       " None,\n",
       " None,\n",
       " None,\n",
       " None,\n",
       " None,\n",
       " None,\n",
       " None,\n",
       " None,\n",
       " None,\n",
       " None,\n",
       " None,\n",
       " None,\n",
       " None,\n",
       " None,\n",
       " None,\n",
       " None,\n",
       " None,\n",
       " None,\n",
       " None,\n",
       " None,\n",
       " None,\n",
       " None,\n",
       " None,\n",
       " None,\n",
       " None,\n",
       " None,\n",
       " None,\n",
       " None,\n",
       " None,\n",
       " None,\n",
       " None,\n",
       " None,\n",
       " None,\n",
       " None,\n",
       " None,\n",
       " None,\n",
       " None,\n",
       " None,\n",
       " None,\n",
       " None,\n",
       " None,\n",
       " None,\n",
       " None,\n",
       " None,\n",
       " None,\n",
       " None,\n",
       " None,\n",
       " None,\n",
       " None,\n",
       " None,\n",
       " None,\n",
       " None,\n",
       " None,\n",
       " None,\n",
       " None,\n",
       " None,\n",
       " None,\n",
       " None,\n",
       " None,\n",
       " None,\n",
       " None,\n",
       " None,\n",
       " None,\n",
       " None,\n",
       " None,\n",
       " None,\n",
       " None,\n",
       " None,\n",
       " None,\n",
       " None,\n",
       " None,\n",
       " None,\n",
       " None,\n",
       " None,\n",
       " None,\n",
       " None,\n",
       " None,\n",
       " None,\n",
       " None,\n",
       " None,\n",
       " None,\n",
       " None,\n",
       " None,\n",
       " None,\n",
       " None,\n",
       " None,\n",
       " None,\n",
       " None,\n",
       " None,\n",
       " None,\n",
       " None,\n",
       " None,\n",
       " None,\n",
       " None,\n",
       " None,\n",
       " None,\n",
       " None,\n",
       " None,\n",
       " None,\n",
       " None]"
      ]
     },
     "execution_count": 43,
     "metadata": {},
     "output_type": "execute_result"
    }
   ],
   "source": [
    "# Get numerical feature importances\n",
    "importances = list(model.feature_importances_)\n",
    "# List of tuples with variable and importance\n",
    "feature_importances = [(feature, round(importance, 2)) for feature, importance in zip(feature_list, importances)]\n",
    "# Sort the feature importances by most important first\n",
    "feature_importances = sorted(feature_importances, key = lambda x: x[1], reverse = True)\n",
    "# Print out the feature and importances \n",
    "[print('Variable: {:20} Importance: {}'.format(*pair)) for pair in feature_importances]"
   ]
  },
  {
   "cell_type": "code",
   "execution_count": 44,
   "metadata": {},
   "outputs": [
    {
     "data": {
      "image/png": "[encoded data removed]",
      "text/plain": [
       "<Figure size 432x288 with 1 Axes>"
      ]
     },
     "metadata": {
      "needs_background": "light"
     },
     "output_type": "display_data"
    }
   ],
   "source": [
    "# list of x locations for plotting\n",
    "x_values = list(range(len(importances)))\n",
    "# Make a bar chart\n",
    "plt.bar(x_values, importances, orientation = 'vertical', color = 'r', edgecolor = 'k', linewidth = 1.2)\n",
    "# Tick labels for x axis\n",
    "plt.xticks(x_values, feature_list, rotation='vertical')\n",
    "# Axis labels and title\n",
    "plt.ylabel('Importance'); plt.xlabel('Variable'); plt.title('Variable Importances');"
   ]
  },
  {
   "cell_type": "code",
   "execution_count": 45,
   "metadata": {},
   "outputs": [
    {
     "data": {
      "image/png": "[encoded data removed]",
      "text/plain": [
       "<Figure size 432x288 with 1 Axes>"
      ]
     },
     "metadata": {
      "needs_background": "light"
     },
     "output_type": "display_data"
    }
   ],
   "source": [
    "# List of features sorted from most to least important\n",
    "sorted_importances = [importance[1] for importance in feature_importances]\n",
    "sorted_features = [importance[0] for importance in feature_importances]\n",
    "# Cumulative importances\n",
    "cumulative_importances = np.cumsum(sorted_importances)\n",
    "# Make a line graph\n",
    "plt.plot(x_values, cumulative_importances, 'g-')\n",
    "# Draw line at 95% of importance retained\n",
    "plt.hlines(y = 0.60, xmin=0, xmax=len(sorted_importances), color = 'r', linestyles = 'dashed')\n",
    "# Format x ticks and labels\n",
    "plt.xticks(x_values, sorted_features, rotation = 'vertical')\n",
    "# Axis labels and title\n",
    "plt.xlabel('Variable'); plt.ylabel('Cumulative Importance'); plt.title('Cumulative Importances');"
   ]
  },
  {
   "cell_type": "code",
   "execution_count": 50,
   "metadata": {},
   "outputs": [
    {
     "name": "stdout",
     "output_type": "stream",
     "text": [
      "Number of features for 95% importance: 66\n"
     ]
    }
   ],
   "source": [
    "# Find number of features for cumulative importance of 95%\n",
    "# Add 1 because Python is zero-indexed\n",
    "cum = np.where(cumulative_importances > 0.75)[0][0] + 1\n",
    "print('Number of features for 95% importance:', cum)"
   ]
  },
  {
   "cell_type": "markdown",
   "metadata": {
    "id": "jd1le0gQeakt"
   },
   "source": [
    "## OPTIMIZE RANDOM FOREST HYPERPARAMETERS BY PERFORMING GRID SEARCH"
   ]
  },
  {
   "cell_type": "code",
   "execution_count": null,
   "metadata": {},
   "outputs": [],
   "source": [
    "from sklearn.model_selection import GridSearchCV\n",
    "# Create the parameter grid based on the results of random search \n",
    "param_grid = {\n",
    "    'bootstrap': [True],\n",
    "    'max_depth': [20, 40, 80, 90, 100, 110],\n",
    "    'max_features': ['auto', 'sqrt'],\n",
    "    'min_samples_leaf': [3, 4, 5, 6, 7],\n",
    "    'min_samples_split': [8, 10, 12, 14],\n",
    "    'n_estimators': [50, 100, 200, 300, 1000, 2000]\n",
    "}\n",
    "# Create a based model\n",
    "rf = RandomForestClassifier()\n",
    "# Instantiate the grid search model\n",
    "grid_search = GridSearchCV(estimator = rf, param_grid = param_grid, \n",
    "                          cv = 5, n_jobs = -1, verbose = 2)"
   ]
  },
  {
   "cell_type": "code",
   "execution_count": null,
   "metadata": {},
   "outputs": [],
   "source": [
    "# Fit the grid search to the data\n",
    "grid_search.fit(X_train, y_train)\n",
    "grid_search.best_params_"
   ]
  },
  {
   "cell_type": "code",
   "execution_count": null,
   "metadata": {},
   "outputs": [],
   "source": [
    "grid_search.best_params_\n"
   ]
  },
  {
   "cell_type": "code",
   "execution_count": null,
   "metadata": {},
   "outputs": [],
   "source": [
    "best_grid = grid_search.best_estimator_\n"
   ]
  },
  {
   "cell_type": "code",
   "execution_count": null,
   "metadata": {},
   "outputs": [],
   "source": [
    "Y_pred= best_grid.predict(X_test)\n"
   ]
  },
  {
   "cell_type": "code",
   "execution_count": null,
   "metadata": {},
   "outputs": [],
   "source": [
    "from sklearn.metrics import confusion_matrix, accuracy_score\n",
    "cm = confusion_matrix(y_test, Y_pred)\n",
    "print(cm)\n",
    "accuracy_score(y_test, Y_pred)"
   ]
  },
  {
   "cell_type": "code",
   "execution_count": null,
   "metadata": {},
   "outputs": [],
   "source": [
    "from sklearn.metrics import roc_auc_score\n",
    "from sklearn.metrics import roc_curve\n",
    "rf_roc_auc = roc_auc_score(y_test, .predict(X_test))\n",
    "fpr, tpr, thresholds = roc_curve(y_test, best_grid.predict_proba(X_test)[:,1])\n",
    "plt.figure()\n",
    "plt.plot(fpr, tpr, label='RF (area = %0.2f)' % rf_roc_auc)\n",
    "plt.plot([0, 1], [0, 1],'r--')\n",
    "plt.xlim([0.0, 1.0])\n",
    "plt.ylim([0.0, 1.05])\n",
    "plt.xlabel('False Positive Rate')\n",
    "plt.ylabel('True Positive Rate')\n",
    "plt.legend(loc=\"lower right\")\n",
    "plt.savefig('Log_ROC')\n",
    "plt.show()"
   ]
  },
  {
   "cell_type": "code",
   "execution_count": null,
   "metadata": {},
   "outputs": [],
   "source": []
  },
  {
   "cell_type": "code",
   "execution_count": null,
   "metadata": {},
   "outputs": [],
   "source": [
    "from sklearn.model_selection import cross_val_score\n",
    "from sklearn.model_selection import RepeatedStratifiedKFold\n",
    "from numpy import mean\n",
    "cv = RepeatedStratifiedKFold(n_splits=5, n_repeats=10, random_state=1)\n",
    "scores = cross_val_score(best_grid, X_train, y_train, scoring='roc_auc', cv=cv, n_jobs=-1)\n",
    "\n",
    "print('Mean ROC AUC with CV: %.3f' % mean(scores))\n",
    "print(\"Standard Deviation roc auc: {:.2f} %\".format(scores.std()*100))\n"
   ]
  },
  {
   "cell_type": "code",
   "execution_count": null,
   "metadata": {},
   "outputs": [],
   "source": [
    "from sklearn.model_selection import cross_val_score\n",
    "from sklearn.model_selection import RepeatedStratifiedKFold\n",
    "from numpy import mean\n",
    "cv = RepeatedStratifiedKFold(n_splits=10, n_repeats=5, random_state=1)\n",
    "scores = cross_val_score(best_grid, X, y, scoring='accuracy', cv=cv, n_jobs=-1)\n",
    "\n",
    "\n",
    "\n",
    "print('Mean accuracy: %.3f' % mean(scores))\n",
    "print(\"Standard Deviation accuracy: {:.2f} %\".format(scores.std()*100))"
   ]
  },
  {
   "cell_type": "code",
   "execution_count": null,
   "metadata": {},
   "outputs": [],
   "source": []
  },
  {
   "cell_type": "code",
   "execution_count": null,
   "metadata": {},
   "outputs": [],
   "source": []
  },
  {
   "cell_type": "code",
   "execution_count": null,
   "metadata": {},
   "outputs": [],
   "source": []
  },
  {
   "cell_type": "code",
   "execution_count": null,
   "metadata": {
    "id": "VcHtS7Q7eak2"
   },
   "outputs": [],
   "source": [
    "drop_cols = ['treatment']\n",
    "features= df.drop(drop_cols,axis = 1 )\n",
    "feature_list = list(features.columns)"
   ]
  },
  {
   "cell_type": "code",
   "execution_count": null,
   "metadata": {
    "id": "E4xxYfzUeak2"
   },
   "outputs": [],
   "source": [
    "import eli5\n",
    "from eli5.sklearn import PermutationImportance"
   ]
  },
  {
   "cell_type": "code",
   "execution_count": null,
   "metadata": {
    "id": "QOs9y-pHeak3",
    "outputId": "e78b08fd-bb26-4c62-b180-fa2d16e3689f"
   },
   "outputs": [],
   "source": [
    "perm = PermutationImportance(best_model, random_state=1).fit(X_test, y_test)\n",
    "eli5.show_weights(perm, feature_names = feature_list)"
   ]
  },
  {
   "cell_type": "code",
   "execution_count": null,
   "metadata": {
    "id": "wkfG7cuHeak3"
   },
   "outputs": [],
   "source": [
    "import shap\n",
    "\n"
   ]
  },
  {
   "cell_type": "code",
   "execution_count": null,
   "metadata": {
    "id": "C_BkbQcReak4"
   },
   "outputs": [],
   "source": []
  },
  {
   "cell_type": "code",
   "execution_count": null,
   "metadata": {
    "id": "ovMPU_fheak4"
   },
   "outputs": [],
   "source": [
    "from matplotlib import pyplot as plt\n",
    "explainer = shap.TreeExplainer(best_model)\n",
    "shap_values = explainer.shap_values(X_test)"
   ]
  },
  {
   "cell_type": "code",
   "execution_count": null,
   "metadata": {
    "id": "tXJE5HPseak4",
    "outputId": "6aee4c2f-6869-4e49-98d1-43a7160e5a6b"
   },
   "outputs": [],
   "source": [
    "X_test"
   ]
  },
  {
   "cell_type": "code",
   "execution_count": null,
   "metadata": {
    "id": "gngMlhJNeak8",
    "outputId": "00752c4c-4433-4c9f-a54f-d4ce3995d283"
   },
   "outputs": [],
   "source": [
    "shap.summary_plot(shap_values, X_test, plot_type=\"bar\")\n",
    "\n"
   ]
  },
  {
   "cell_type": "code",
   "execution_count": null,
   "metadata": {
    "id": "HtDF1T7veak9",
    "outputId": "9be84ceb-4d3e-4e95-8200-f95828409129"
   },
   "outputs": [],
   "source": [
    "shap.summary_plot(shap_values[1], X_test)\n",
    "# 0 metformina\n",
    "# 1 lina + metformina \n",
    "\n",
    "# usar solo 20 - hacer el árbol \n",
    "# los puntos no son los pacientes en sí..... \n",
    "#shap value positivo - clasificando metformina"
   ]
  },
  {
   "cell_type": "code",
   "execution_count": null,
   "metadata": {
    "id": "8MyBSI3yeak-",
    "outputId": "a986972b-06a3-4dab-a45f-8e67f76fc542"
   },
   "outputs": [],
   "source": [
    "df.iloc[:, 38]"
   ]
  },
  {
   "cell_type": "code",
   "execution_count": null,
   "metadata": {
    "id": "NwAMyZu7eak_",
    "outputId": "dab1e7e9-59ba-477a-dab7-8fa346c83615"
   },
   "outputs": [],
   "source": [
    "df.iloc[:, 67]"
   ]
  },
  {
   "cell_type": "code",
   "execution_count": null,
   "metadata": {
    "id": "aIQ3doxnealA",
    "outputId": "5e548e33-76af-4064-f6f5-059da0022fa8"
   },
   "outputs": [],
   "source": [
    "df.iloc[:, 67]"
   ]
  },
  {
   "cell_type": "code",
   "execution_count": null,
   "metadata": {
    "id": "Vmqkbhj6ealB",
    "outputId": "3075aab1-184e-4675-a624-a27ef22878a2"
   },
   "outputs": [],
   "source": [
    "df.iloc[:, 35]"
   ]
  },
  {
   "cell_type": "code",
   "execution_count": null,
   "metadata": {
    "id": "9FjnAY2wealC",
    "outputId": "0ebfd492-20a7-4146-fd9f-7c2b769bf160"
   },
   "outputs": [],
   "source": [
    "print('Training Features Shape:', X_train.shape)\n",
    "print('Training Labels Shape:', y_train.shape)\n",
    "print('Testing Features Shape:', X_test.shape)\n",
    "print('Testing Labels Shape:', y_test.shape)"
   ]
  },
  {
   "cell_type": "markdown",
   "metadata": {
    "id": "yJPIKt1WealD"
   },
   "source": [
    "### how to get columns names ?\n"
   ]
  },
  {
   "cell_type": "code",
   "execution_count": null,
   "metadata": {
    "id": "c-an8miMealD",
    "outputId": "63926929-017c-4877-8297-76e53e899dfb"
   },
   "outputs": [],
   "source": [
    "cols = df.columns \n",
    "cols"
   ]
  },
  {
   "cell_type": "code",
   "execution_count": null,
   "metadata": {
    "id": "22JxxNVGealE"
   },
   "outputs": [],
   "source": [
    "df_features = df.drop(labels='treatment', axis=1) #"
   ]
  },
  {
   "cell_type": "code",
   "execution_count": null,
   "metadata": {
    "id": "xus_z9v_ealF",
    "outputId": "50c640ae-b437-443a-c050-903deed9db2d"
   },
   "outputs": [],
   "source": [
    "x1 = df_features.columns.values\n",
    "x1"
   ]
  },
  {
   "cell_type": "code",
   "execution_count": null,
   "metadata": {
    "id": "NjYcsoS7ealG"
   },
   "outputs": [],
   "source": [
    "drop_cols = ['treatment']\n",
    "df_X = df.drop(drop_cols, axis= 1)\n",
    "cont_names = df_X.columns"
   ]
  },
  {
   "cell_type": "code",
   "execution_count": null,
   "metadata": {
    "id": "op08dnsEealG"
   },
   "outputs": [],
   "source": [
    "cont_names = cont_names.values.tolist()"
   ]
  },
  {
   "cell_type": "code",
   "execution_count": null,
   "metadata": {
    "id": "T1JUg44healH",
    "outputId": "669297fc-c90e-48ec-ac76-0cfb9428b425"
   },
   "outputs": [],
   "source": [
    "classifier.fit(X_train, y_train)\n",
    "# Extract single tree\n",
    "estimator = classifier.estimators_[5]\n",
    "estimator"
   ]
  },
  {
   "cell_type": "code",
   "execution_count": null,
   "metadata": {
    "id": "fQwVf9N8ealH"
   },
   "outputs": [],
   "source": [
    "from sklearn.tree import export_graphviz\n",
    "export_graphviz(estimator, out_file='rf_Lina.dot', \n",
    "                feature_names = cont_names,\n",
    "                class_names = ['0', '1'],\n",
    "                rounded = True, proportion = False, \n",
    "                precision = 2, filled = True)\n",
    "\n"
   ]
  },
  {
   "cell_type": "code",
   "execution_count": null,
   "metadata": {
    "id": "kSoBrfl_ealI",
    "outputId": "f89e09ba-f73b-4fe5-87d0-418ee9659770"
   },
   "outputs": [],
   "source": [
    "from IPython.display import Image\n",
    "from subprocess import call\n",
    "\n",
    "# Convert to png\n",
    "call(['dot', '-Tpng', 'rf_Lina.dot', '-o', 'rf_Lina.png', '-Gdpi=200'])\n",
    "\n",
    "# Visualize\n",
    "Image(filename='rf_Lina.png')"
   ]
  },
  {
   "cell_type": "code",
   "execution_count": null,
   "metadata": {
    "id": "FgeZxaP5ealJ"
   },
   "outputs": [],
   "source": [
    "!pip install -Uqq fastbook kaggle waterfallcharts treeinterpreter dtreeviz\n"
   ]
  },
  {
   "cell_type": "code",
   "execution_count": null,
   "metadata": {
    "id": "GZjJsdXjealJ"
   },
   "outputs": [],
   "source": [
    "from dtreeviz.trees import *\n",
    "from IPython.display import Image, display_svg, SVG"
   ]
  },
  {
   "cell_type": "code",
   "execution_count": null,
   "metadata": {
    "id": "hqetdszHealK"
   },
   "outputs": [],
   "source": [
    "dep_var = ['treatment']\n"
   ]
  },
  {
   "cell_type": "code",
   "execution_count": null,
   "metadata": {
    "id": "9OAoxvkCealK"
   },
   "outputs": [],
   "source": [
    "drop_cols = ['treatment']\n",
    "df_X = df.drop(drop_cols, axis= 1)\n",
    "cont_names = df_X.columns"
   ]
  },
  {
   "cell_type": "code",
   "execution_count": null,
   "metadata": {
    "id": "3AhVh1loealL"
   },
   "outputs": [],
   "source": [
    "cont_names = cont_names.values.tolist()"
   ]
  },
  {
   "cell_type": "code",
   "execution_count": null,
   "metadata": {
    "id": "t7nor5J7ealM"
   },
   "outputs": [],
   "source": [
    "splits = RandomSplitter(valid_pct=0.25)(range_of(df))"
   ]
  },
  {
   "cell_type": "code",
   "execution_count": null,
   "metadata": {
    "id": "tQiQP6NtealM"
   },
   "outputs": [],
   "source": [
    "to = TabularPandas(df,\n",
    "                   cont_names = cont_names,\n",
    "                   y_names='treatment',\n",
    "                   y_block = CategoryBlock,\n",
    "                   splits=splits)"
   ]
  },
  {
   "cell_type": "code",
   "execution_count": null,
   "metadata": {
    "id": "rDa1ph0VealN"
   },
   "outputs": [],
   "source": [
    "xs,y = to.train.xs,to.train.y\n",
    "valid_xs,valid_y = to.valid.xs,to.valid.y"
   ]
  },
  {
   "cell_type": "code",
   "execution_count": null,
   "metadata": {
    "id": "uh-8LrnyealN"
   },
   "outputs": [],
   "source": [
    "from sklearn.tree import DecisionTreeClassifier\n"
   ]
  },
  {
   "cell_type": "code",
   "execution_count": null,
   "metadata": {
    "id": "IOrtagEbealN",
    "outputId": "cc440d8f-26a3-4581-b9a2-07709a9ae066"
   },
   "outputs": [],
   "source": [
    "m = DecisionTreeClassifier(criterion='entropy', max_features='sqrt',\n",
    "                       random_state=1537364731)\n",
    "m.fit(xs, y)"
   ]
  },
  {
   "cell_type": "code",
   "execution_count": null,
   "metadata": {
    "id": "_ChSjs4sealO"
   },
   "outputs": [],
   "source": []
  },
  {
   "cell_type": "code",
   "execution_count": null,
   "metadata": {
    "id": "0spCF45qealO",
    "outputId": "5b421b7a-aec8-4f96-94af-22b06b941bea"
   },
   "outputs": [],
   "source": [
    "samp_idx = np.random.permutation(len(y))[:500]\n",
    "dtreeviz(estimator, xs.iloc[samp_idx], y.iloc[samp_idx], xs.columns, dep_var,\n",
    "        fontname='DejaVu Sans', scale=1.6, label_fontsize=10,\n",
    "        orientation='LR')"
   ]
  },
  {
   "cell_type": "code",
   "execution_count": null,
   "metadata": {
    "id": "G_RB-b0healR",
    "outputId": "261ccd2f-5c67-40e6-88a3-2ed112070991"
   },
   "outputs": [],
   "source": [
    "samp_idx = np.random.permutation(len(y))[:500]\n",
    "dtreeviz(estimator, xs.iloc[samp_idx], y.iloc[samp_idx], xs.columns, dep_var,\n",
    "        fontname='DejaVu Sans', scale=1.6, label_fontsize=10,\n",
    "        show_node_labels = True)\n",
    "\n"
   ]
  },
  {
   "cell_type": "markdown",
   "metadata": {
    "id": "eVJYYyJWealT"
   },
   "source": [
    "At each node, we can see a stacked histogram of the feature that is used for splitting the observations, colored by class. This way, we can see how the classes are segregated by each split. The small triangle with the value at the x-axis is the splitting point\n",
    "\n",
    "The left branches of the tree indicate selecting the values larger or equal to the splitting value, while the right one lesser than the splitting value. "
   ]
  },
  {
   "cell_type": "code",
   "execution_count": null,
   "metadata": {
    "id": "iO6upACXealU"
   },
   "outputs": [],
   "source": [
    "def feat_importance(m, df):\n",
    "    return pd.DataFrame({'cols':df.columns, 'imp':m.feature_importances_}\n",
    "                       ).sort_values('imp', ascending=False)"
   ]
  },
  {
   "cell_type": "code",
   "execution_count": null,
   "metadata": {
    "id": "iHGbuq_eealV",
    "outputId": "2cca85cc-5de1-4356-fb3d-e2070d4ca620"
   },
   "outputs": [],
   "source": [
    "fi = feat_importance(m, xs)\n",
    "fi[:10]"
   ]
  },
  {
   "cell_type": "code",
   "execution_count": null,
   "metadata": {
    "id": "uSNRIt0DealV",
    "outputId": "853a226a-d821-43c6-bb62-bf6fec4ce355"
   },
   "outputs": [],
   "source": [
    "def plot_fi(fi):\n",
    "    return fi.plot('cols', 'imp', 'barh', figsize=(24,14), legend=False)\n",
    "\n",
    "plot_fi(fi[:30]);"
   ]
  },
  {
   "cell_type": "code",
   "execution_count": null,
   "metadata": {
    "id": "AkFs51_-ealW",
    "outputId": "222a43d6-e92c-41e0-9bfc-423254d177a1"
   },
   "outputs": [],
   "source": [
    "to_keep = fi[fi.imp>0.005].cols\n",
    "len(to_keep)"
   ]
  },
  {
   "cell_type": "code",
   "execution_count": null,
   "metadata": {
    "id": "swIHOlRZealX",
    "outputId": "3b5bfd95-56dc-4288-8b8e-0f45c50e224c"
   },
   "outputs": [],
   "source": [
    "to_keep.values"
   ]
  },
  {
   "cell_type": "code",
   "execution_count": null,
   "metadata": {
    "id": "DtIGhZ7VealX"
   },
   "outputs": [],
   "source": [
    "impo =['k__Bacteria;p__Firmicutes;c__Clostridia;o__Clostridiales;f__Lachnospiraceae;g__Ruminococcus',\n",
    "       'k__Bacteria;p__Verrucomicrobia;c__Verrucomicrobiae;o__Verrucomicrobiales;f__Verrucomicrobiaceae;g__Akkermansia',\n",
    "       'k__Bacteria;p__Firmicutes;c__Clostridia;o__Clostridiales;f__Lachnospiraceae;g__Anaerostipes', 'k__Bacteria;p__Firmicutes;c__Clostridia;o__Clostridiales;f__;g__',\n",
    "       'k__Bacteria;p__Firmicutes;c__Bacilli;o__Lactobacillales;f__Streptococcaceae;g__Streptococcus', 'k__Bacteria;p__Firmicutes;c__Clostridia;o__Clostridiales;f__Ruminococcaceae;g__Anaerotruncus',\n",
    "       'k__Bacteria;p__Firmicutes;c__Clostridia;o__Clostridiales;f__Lachnospiraceae;g__Lachnospira', 'k__Bacteria;p__Tenericutes;c__Mollicutes;o__RF39;f__;g__',\n",
    "       'k__Bacteria;p__Firmicutes;c__Clostridia;o__Clostridiales;f__Lachnospiraceae;g__', 'k__Bacteria;p__Firmicutes;c__Clostridia;o__Clostridiales;f__Lachnospiraceae;g__Coprococcus',\n",
    "       'k__Bacteria;p__Synergistetes;c__Synergistia;o__Synergistales;f__Synergistaceae;g__Cloacibacillus', 'k__Bacteria;p__Firmicutes;c__Clostridia;o__Clostridiales;f__[Tissierellaceae];g__1-68',\n",
    "       'k__Bacteria;p__Firmicutes;c__Clostridia;o__Clostridiales;f__[Tissierellaceae];g__Peptoniphilus',\n",
    "       'k__Bacteria;p__Firmicutes;c__Clostridia;o__Clostridiales;f__Ruminococcaceae;g__Butyricicoccus', 'k__Bacteria;p__TM7;c__TM7-3;o__CW040;f__;g__',\n",
    "       'k__Bacteria;p__Firmicutes;c__Bacilli;o__Lactobacillales;f__Lactobacillaceae;g__Lactobacillus', 'k__Bacteria;p__Firmicutes;c__Erysipelotrichi;o__Erysipelotrichales;f__Erysipelotrichaceae;g__',\n",
    "       'k__Bacteria;p__Firmicutes;c__Clostridia;o__Clostridiales;f__[Tissierellaceae];g__Parvimonas', 'k__Bacteria;p__Bacteroidetes;c__Bacteroidia;o__Bacteroidales;f__Prevotellaceae;g__Prevotella',\n",
    "       'k__Bacteria;p__Bacteroidetes;c__Bacteroidia;o__Bacteroidales;f__S24-7;g__', 'k__Bacteria;p__Firmicutes;c__Clostridia;o__Clostridiales;f__Veillonellaceae;g__Dialister']"
   ]
  },
  {
   "cell_type": "code",
   "execution_count": null,
   "metadata": {
    "id": "w3FIMp7sealY"
   },
   "outputs": [],
   "source": [
    "xs_imp=xs[impo]\n",
    "valid_xs_imp = valid_xs[impo]"
   ]
  },
  {
   "cell_type": "code",
   "execution_count": null,
   "metadata": {
    "id": "t1eqn34dealZ",
    "outputId": "bab3cff6-cab5-4c6a-b700-206fc21bec00"
   },
   "outputs": [],
   "source": [
    "xs_imp"
   ]
  },
  {
   "cell_type": "code",
   "execution_count": null,
   "metadata": {
    "id": "Xd3lnjRDealZ",
    "outputId": "3e0f8fd0-80a5-4aed-ddaa-801b4fa0f2e0"
   },
   "outputs": [],
   "source": [
    "y.shape"
   ]
  },
  {
   "cell_type": "code",
   "execution_count": null,
   "metadata": {
    "id": "PjJIkVZleala",
    "outputId": "92d80816-08be-4e32-8dd3-68475b13f1b3"
   },
   "outputs": [],
   "source": [
    "classifier.fit(xs_imp, y)"
   ]
  },
  {
   "cell_type": "code",
   "execution_count": null,
   "metadata": {
    "id": "k2rYBPFzeala",
    "outputId": "a0ac6966-4f0c-4f8a-9540-d3c065c43b07"
   },
   "outputs": [],
   "source": [
    "y_pred_1 = classifier.predict(valid_xs_imp)\n",
    "cm = confusion_matrix(valid_y, y_pred_1)\n",
    "print(cm)\n",
    "accuracy_score(valid_y, y_pred_1)"
   ]
  },
  {
   "cell_type": "code",
   "execution_count": null,
   "metadata": {
    "id": "evYGuwkPealb"
   },
   "outputs": [],
   "source": []
  }
 ],
 "metadata": {
  "colab": {
   "name": "LinagliptinvsMetformin-RANDOM_FOREST.ipynb",
   "provenance": []
  },
  "kernelspec": {
   "display_name": "Python 3",
   "language": "python",
   "name": "python3"
  },
  "language_info": {
   "codemirror_mode": {
    "name": "ipython",
    "version": 3
   },
   "file_extension": ".py",
   "mimetype": "text/x-python",
   "name": "python",
   "nbconvert_exporter": "python",
   "pygments_lexer": "ipython3",
   "version": "3.8.8"
  }
 },
 "nbformat": 4,
 "nbformat_minor": 1
}
